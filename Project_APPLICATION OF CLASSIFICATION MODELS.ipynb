{
 "cells": [
  {
   "cell_type": "markdown",
   "metadata": {},
   "source": [
    "# Problem Statement\n",
    "\n",
    "Problem 1:  Prediction task is to determine whether a person makes over 50K a year. <br\\>\n",
    "Problem 2: Which factors are important <br\\>\n",
    "Problem 3: Which algorithm are best for this dataset <br\\>"
   ]
  },
  {
   "cell_type": "markdown",
   "metadata": {},
   "source": [
    "#### The description of the dataset is as follows:\n",
    "\n",
    "Data Set Information:\n",
    "Extraction was done by Barry Becker from the 1994 Census database. A set of reasonably clean records was extracted using the following conditions: \n",
    "####((AAGE>16) && (AGI>100) && (AFNLWGT>1)&& (HRSWK>0))\n",
    "\n",
    "Attribute Information:\n",
    "Listing of attributes:\n",
    "* >50K, <=50K.\n",
    "* age: continuous.\n",
    "* workclass: Private, Self-emp-not-inc, Self-emp-inc, Federal-gov, Local-gov, State-gov,Without-pay, Never-worked.\n",
    "* fnlwgt: continuous.\n",
    "* education: Bachelors, Some-college, 11th, HS-grad, Prof-school, Assoc-acdm, Assoc-voc,\n",
    "9th, 7th-8th, 12th, Masters, 1st-4th, 10th, Doctorate, 5th-6th, Preschool.\n",
    "education-num: continuous.\n",
    "\n",
    "* marital-status: Married-civ-spouse, Divorced, Never-married, Separated, Widowed,\n",
    "Married-spouse-absent, Married-AF-spouse.\n",
    "\n",
    "* occupation: Tech-support, Craft-repair, Other-service, Sales, Exec-managerial, Prof-\n",
    "specialty, Handlers-cleaners, Machine-op-inspct, Adm-clerical, Farming-fishing,\n",
    "\n",
    "Transport-moving, Priv-house-serv, Protective-serv, Armed-Forces.\n",
    "* relationship: Wife, Own-child, Husband, Not-in-family, Other-relative, Unmarried.\n",
    "* race: White, Asian-Pac-Islander, Amer-Indian-Eskimo, Other, Black.\n",
    "* sex: Female, Male.\n",
    "* capital-gain: continuous.\n",
    "* capital-loss: continuous.\n",
    "* hours-per-week: continuous.\n",
    "* native-country: United-States, Cambodia, England, Puerto-Rico, Canada, Germany,\n",
    "Outlying-US(Guam-USVI-etc), India, Japan, Greece, South, China, Cuba, Iran, Honduras,\n",
    "Philippines, Italy, Poland, Jamaica, Vietnam, Mexico, Portugal, Ireland, France,\n",
    "Dominican-Republic, Laos, Ecuador, Taiwan, Haiti, Columbia, Hungary, Guatemala,\n",
    "Nicaragua, Scotland, Thailand, Yugoslavia, El-Salvador, Trinadad&Tobago, Peru, Hong,\n",
    "Holand-Netherlands."
   ]
  },
  {
   "cell_type": "code",
   "execution_count": 1,
   "metadata": {},
   "outputs": [],
   "source": [
    "#code to load required libraries and data:\n",
    "import numpy as np\n",
    "import pandas as pd\n",
    "import seaborn as sns\n",
    "import matplotlib.pyplot as plt\n",
    "import math\n",
    "from pandas.plotting import scatter_matrix\n",
    "%matplotlib inline\n",
    "# Machine learning\n",
    "import sklearn.ensemble as ske\n",
    "from sklearn import datasets, model_selection, tree, preprocessing, metrics, linear_model\n",
    "from sklearn.ensemble import RandomForestClassifier, GradientBoostingClassifier\n",
    "from sklearn.neighbors import KNeighborsClassifier\n",
    "from sklearn.linear_model import LinearRegression, LogisticRegression, Ridge, Lasso\n",
    "from sklearn.tree import DecisionTreeClassifier\n",
    "# Grid and Random Search\n",
    "from sklearn.model_selection import GridSearchCV\n",
    "from sklearn.model_selection import RandomizedSearchCV\n",
    "# Metrics\n",
    "from sklearn.metrics import precision_recall_fscore_support, roc_curve, auc"
   ]
  },
  {
   "cell_type": "markdown",
   "metadata": {},
   "source": [
    "#### Note: \n",
    "\n",
    "The data pertaining to native country  has few unknow values represented by ?\n",
    "Same is the case with workclass and occupation feature"
   ]
  },
  {
   "cell_type": "markdown",
   "metadata": {},
   "source": [
    "# Load training and test data into corresponding dataframes"
   ]
  },
  {
   "cell_type": "code",
   "execution_count": 2,
   "metadata": {},
   "outputs": [],
   "source": [
    "train_set = pd.read_csv('http://archive.ics.uci.edu/ml/machine-learning-databases/adult/adult.data', header = None,na_values=\"?\")\n",
    "\n",
    "test_set = pd.read_csv('http://archive.ics.uci.edu/ml/machine-learning-databases/adult/adult.test', skiprows = 1, header = None,na_values=\"?\")\n",
    "\n",
    "col_labels = ['age', 'workclass', 'fnlwgt', 'education', 'education_num', 'marital_status',\n",
    "'occupation','relationship', 'race', 'sex', 'capital_gain', 'capital_loss', 'hours_per_week',\n",
    "'native_country', 'wage_class']\n",
    "train_set.columns = col_labels\n",
    "test_set.columns = col_labels"
   ]
  },
  {
   "cell_type": "code",
   "execution_count": 3,
   "metadata": {},
   "outputs": [
    {
     "data": {
      "text/plain": [
       "((32561, 15), (16281, 15))"
      ]
     },
     "execution_count": 3,
     "metadata": {},
     "output_type": "execute_result"
    }
   ],
   "source": [
    "train_set.shape,test_set.shape"
   ]
  },
  {
   "cell_type": "markdown",
   "metadata": {},
   "source": [
    "# View training and test data sample"
   ]
  },
  {
   "cell_type": "code",
   "execution_count": 4,
   "metadata": {},
   "outputs": [
    {
     "data": {
      "text/html": [
       "<div>\n",
       "<style scoped>\n",
       "    .dataframe tbody tr th:only-of-type {\n",
       "        vertical-align: middle;\n",
       "    }\n",
       "\n",
       "    .dataframe tbody tr th {\n",
       "        vertical-align: top;\n",
       "    }\n",
       "\n",
       "    .dataframe thead th {\n",
       "        text-align: right;\n",
       "    }\n",
       "</style>\n",
       "<table border=\"1\" class=\"dataframe\">\n",
       "  <thead>\n",
       "    <tr style=\"text-align: right;\">\n",
       "      <th></th>\n",
       "      <th>age</th>\n",
       "      <th>workclass</th>\n",
       "      <th>fnlwgt</th>\n",
       "      <th>education</th>\n",
       "      <th>education_num</th>\n",
       "      <th>marital_status</th>\n",
       "      <th>occupation</th>\n",
       "      <th>relationship</th>\n",
       "      <th>race</th>\n",
       "      <th>sex</th>\n",
       "      <th>capital_gain</th>\n",
       "      <th>capital_loss</th>\n",
       "      <th>hours_per_week</th>\n",
       "      <th>native_country</th>\n",
       "      <th>wage_class</th>\n",
       "    </tr>\n",
       "  </thead>\n",
       "  <tbody>\n",
       "    <tr>\n",
       "      <th>14160</th>\n",
       "      <td>27</td>\n",
       "      <td>Private</td>\n",
       "      <td>160178</td>\n",
       "      <td>Some-college</td>\n",
       "      <td>10</td>\n",
       "      <td>Divorced</td>\n",
       "      <td>Adm-clerical</td>\n",
       "      <td>Not-in-family</td>\n",
       "      <td>White</td>\n",
       "      <td>Female</td>\n",
       "      <td>0</td>\n",
       "      <td>0</td>\n",
       "      <td>38</td>\n",
       "      <td>United-States</td>\n",
       "      <td>&lt;=50K</td>\n",
       "    </tr>\n",
       "    <tr>\n",
       "      <th>27048</th>\n",
       "      <td>45</td>\n",
       "      <td>State-gov</td>\n",
       "      <td>50567</td>\n",
       "      <td>HS-grad</td>\n",
       "      <td>9</td>\n",
       "      <td>Married-civ-spouse</td>\n",
       "      <td>Exec-managerial</td>\n",
       "      <td>Wife</td>\n",
       "      <td>White</td>\n",
       "      <td>Female</td>\n",
       "      <td>0</td>\n",
       "      <td>0</td>\n",
       "      <td>40</td>\n",
       "      <td>United-States</td>\n",
       "      <td>&lt;=50K</td>\n",
       "    </tr>\n",
       "    <tr>\n",
       "      <th>28868</th>\n",
       "      <td>29</td>\n",
       "      <td>Private</td>\n",
       "      <td>185908</td>\n",
       "      <td>Bachelors</td>\n",
       "      <td>13</td>\n",
       "      <td>Married-civ-spouse</td>\n",
       "      <td>Exec-managerial</td>\n",
       "      <td>Husband</td>\n",
       "      <td>Black</td>\n",
       "      <td>Male</td>\n",
       "      <td>0</td>\n",
       "      <td>0</td>\n",
       "      <td>55</td>\n",
       "      <td>United-States</td>\n",
       "      <td>&gt;50K</td>\n",
       "    </tr>\n",
       "    <tr>\n",
       "      <th>5667</th>\n",
       "      <td>30</td>\n",
       "      <td>Private</td>\n",
       "      <td>190040</td>\n",
       "      <td>Bachelors</td>\n",
       "      <td>13</td>\n",
       "      <td>Never-married</td>\n",
       "      <td>Machine-op-inspct</td>\n",
       "      <td>Not-in-family</td>\n",
       "      <td>White</td>\n",
       "      <td>Female</td>\n",
       "      <td>0</td>\n",
       "      <td>0</td>\n",
       "      <td>40</td>\n",
       "      <td>United-States</td>\n",
       "      <td>&lt;=50K</td>\n",
       "    </tr>\n",
       "  </tbody>\n",
       "</table>\n",
       "</div>"
      ],
      "text/plain": [
       "       age   workclass  fnlwgt      education  education_num  \\\n",
       "14160   27     Private  160178   Some-college             10   \n",
       "27048   45   State-gov   50567        HS-grad              9   \n",
       "28868   29     Private  185908      Bachelors             13   \n",
       "5667    30     Private  190040      Bachelors             13   \n",
       "\n",
       "            marital_status          occupation    relationship    race  \\\n",
       "14160             Divorced        Adm-clerical   Not-in-family   White   \n",
       "27048   Married-civ-spouse     Exec-managerial            Wife   White   \n",
       "28868   Married-civ-spouse     Exec-managerial         Husband   Black   \n",
       "5667         Never-married   Machine-op-inspct   Not-in-family   White   \n",
       "\n",
       "           sex  capital_gain  capital_loss  hours_per_week  native_country  \\\n",
       "14160   Female             0             0              38   United-States   \n",
       "27048   Female             0             0              40   United-States   \n",
       "28868     Male             0             0              55   United-States   \n",
       "5667    Female             0             0              40   United-States   \n",
       "\n",
       "      wage_class  \n",
       "14160      <=50K  \n",
       "27048      <=50K  \n",
       "28868       >50K  \n",
       "5667       <=50K  "
      ]
     },
     "execution_count": 4,
     "metadata": {},
     "output_type": "execute_result"
    }
   ],
   "source": [
    "train_set.sample(4, random_state = 42)"
   ]
  },
  {
   "cell_type": "code",
   "execution_count": 5,
   "metadata": {},
   "outputs": [
    {
     "data": {
      "text/html": [
       "<div>\n",
       "<style scoped>\n",
       "    .dataframe tbody tr th:only-of-type {\n",
       "        vertical-align: middle;\n",
       "    }\n",
       "\n",
       "    .dataframe tbody tr th {\n",
       "        vertical-align: top;\n",
       "    }\n",
       "\n",
       "    .dataframe thead th {\n",
       "        text-align: right;\n",
       "    }\n",
       "</style>\n",
       "<table border=\"1\" class=\"dataframe\">\n",
       "  <thead>\n",
       "    <tr style=\"text-align: right;\">\n",
       "      <th></th>\n",
       "      <th>age</th>\n",
       "      <th>workclass</th>\n",
       "      <th>fnlwgt</th>\n",
       "      <th>education</th>\n",
       "      <th>education_num</th>\n",
       "      <th>marital_status</th>\n",
       "      <th>occupation</th>\n",
       "      <th>relationship</th>\n",
       "      <th>race</th>\n",
       "      <th>sex</th>\n",
       "      <th>capital_gain</th>\n",
       "      <th>capital_loss</th>\n",
       "      <th>hours_per_week</th>\n",
       "      <th>native_country</th>\n",
       "      <th>wage_class</th>\n",
       "    </tr>\n",
       "  </thead>\n",
       "  <tbody>\n",
       "    <tr>\n",
       "      <th>13633</th>\n",
       "      <td>29</td>\n",
       "      <td>Private</td>\n",
       "      <td>189346</td>\n",
       "      <td>HS-grad</td>\n",
       "      <td>9</td>\n",
       "      <td>Never-married</td>\n",
       "      <td>Transport-moving</td>\n",
       "      <td>Unmarried</td>\n",
       "      <td>White</td>\n",
       "      <td>Male</td>\n",
       "      <td>0</td>\n",
       "      <td>0</td>\n",
       "      <td>40</td>\n",
       "      <td>United-States</td>\n",
       "      <td>&lt;=50K.</td>\n",
       "    </tr>\n",
       "    <tr>\n",
       "      <th>1921</th>\n",
       "      <td>31</td>\n",
       "      <td>Private</td>\n",
       "      <td>137076</td>\n",
       "      <td>Bachelors</td>\n",
       "      <td>13</td>\n",
       "      <td>Married-civ-spouse</td>\n",
       "      <td>Protective-serv</td>\n",
       "      <td>Husband</td>\n",
       "      <td>White</td>\n",
       "      <td>Male</td>\n",
       "      <td>0</td>\n",
       "      <td>0</td>\n",
       "      <td>40</td>\n",
       "      <td>United-States</td>\n",
       "      <td>&lt;=50K.</td>\n",
       "    </tr>\n",
       "    <tr>\n",
       "      <th>12140</th>\n",
       "      <td>52</td>\n",
       "      <td>Federal-gov</td>\n",
       "      <td>35546</td>\n",
       "      <td>HS-grad</td>\n",
       "      <td>9</td>\n",
       "      <td>Married-civ-spouse</td>\n",
       "      <td>Tech-support</td>\n",
       "      <td>Husband</td>\n",
       "      <td>White</td>\n",
       "      <td>Male</td>\n",
       "      <td>0</td>\n",
       "      <td>0</td>\n",
       "      <td>40</td>\n",
       "      <td>United-States</td>\n",
       "      <td>&lt;=50K.</td>\n",
       "    </tr>\n",
       "    <tr>\n",
       "      <th>9933</th>\n",
       "      <td>54</td>\n",
       "      <td>Local-gov</td>\n",
       "      <td>116428</td>\n",
       "      <td>10th</td>\n",
       "      <td>6</td>\n",
       "      <td>Married-civ-spouse</td>\n",
       "      <td>Exec-managerial</td>\n",
       "      <td>Husband</td>\n",
       "      <td>White</td>\n",
       "      <td>Male</td>\n",
       "      <td>0</td>\n",
       "      <td>0</td>\n",
       "      <td>40</td>\n",
       "      <td>United-States</td>\n",
       "      <td>&lt;=50K.</td>\n",
       "    </tr>\n",
       "  </tbody>\n",
       "</table>\n",
       "</div>"
      ],
      "text/plain": [
       "       age     workclass  fnlwgt   education  education_num  \\\n",
       "13633   29       Private  189346     HS-grad              9   \n",
       "1921    31       Private  137076   Bachelors             13   \n",
       "12140   52   Federal-gov   35546     HS-grad              9   \n",
       "9933    54     Local-gov  116428        10th              6   \n",
       "\n",
       "            marital_status         occupation relationship    race    sex  \\\n",
       "13633        Never-married   Transport-moving    Unmarried   White   Male   \n",
       "1921    Married-civ-spouse    Protective-serv      Husband   White   Male   \n",
       "12140   Married-civ-spouse       Tech-support      Husband   White   Male   \n",
       "9933    Married-civ-spouse    Exec-managerial      Husband   White   Male   \n",
       "\n",
       "       capital_gain  capital_loss  hours_per_week  native_country wage_class  \n",
       "13633             0             0              40   United-States     <=50K.  \n",
       "1921              0             0              40   United-States     <=50K.  \n",
       "12140             0             0              40   United-States     <=50K.  \n",
       "9933              0             0              40   United-States     <=50K.  "
      ]
     },
     "execution_count": 5,
     "metadata": {},
     "output_type": "execute_result"
    }
   ],
   "source": [
    "test_set.sample(4, random_state = 42)"
   ]
  },
  {
   "cell_type": "markdown",
   "metadata": {},
   "source": [
    "# Check for null values if any  in training and test data sets"
   ]
  },
  {
   "cell_type": "code",
   "execution_count": 6,
   "metadata": {},
   "outputs": [
    {
     "data": {
      "text/plain": [
       "age               0\n",
       "workclass         0\n",
       "fnlwgt            0\n",
       "education         0\n",
       "education_num     0\n",
       "marital_status    0\n",
       "occupation        0\n",
       "relationship      0\n",
       "race              0\n",
       "sex               0\n",
       "capital_gain      0\n",
       "capital_loss      0\n",
       "hours_per_week    0\n",
       "native_country    0\n",
       "wage_class        0\n",
       "dtype: int64"
      ]
     },
     "execution_count": 6,
     "metadata": {},
     "output_type": "execute_result"
    }
   ],
   "source": [
    "train_set.isnull().sum()"
   ]
  },
  {
   "cell_type": "code",
   "execution_count": 7,
   "metadata": {},
   "outputs": [
    {
     "data": {
      "text/plain": [
       "age               0\n",
       "workclass         0\n",
       "fnlwgt            0\n",
       "education         0\n",
       "education_num     0\n",
       "marital_status    0\n",
       "occupation        0\n",
       "relationship      0\n",
       "race              0\n",
       "sex               0\n",
       "capital_gain      0\n",
       "capital_loss      0\n",
       "hours_per_week    0\n",
       "native_country    0\n",
       "wage_class        0\n",
       "dtype: int64"
      ]
     },
     "execution_count": 7,
     "metadata": {},
     "output_type": "execute_result"
    }
   ],
   "source": [
    "test_set.isnull().sum()"
   ]
  },
  {
   "cell_type": "code",
   "execution_count": 8,
   "metadata": {},
   "outputs": [
    {
     "data": {
      "text/html": [
       "<div>\n",
       "<style scoped>\n",
       "    .dataframe tbody tr th:only-of-type {\n",
       "        vertical-align: middle;\n",
       "    }\n",
       "\n",
       "    .dataframe tbody tr th {\n",
       "        vertical-align: top;\n",
       "    }\n",
       "\n",
       "    .dataframe thead th {\n",
       "        text-align: right;\n",
       "    }\n",
       "</style>\n",
       "<table border=\"1\" class=\"dataframe\">\n",
       "  <thead>\n",
       "    <tr style=\"text-align: right;\">\n",
       "      <th></th>\n",
       "      <th>train_set</th>\n",
       "      <th>test_set</th>\n",
       "    </tr>\n",
       "  </thead>\n",
       "  <tbody>\n",
       "    <tr>\n",
       "      <th>age</th>\n",
       "      <td>int64</td>\n",
       "      <td>int64</td>\n",
       "    </tr>\n",
       "    <tr>\n",
       "      <th>workclass</th>\n",
       "      <td>object</td>\n",
       "      <td>object</td>\n",
       "    </tr>\n",
       "    <tr>\n",
       "      <th>fnlwgt</th>\n",
       "      <td>int64</td>\n",
       "      <td>int64</td>\n",
       "    </tr>\n",
       "    <tr>\n",
       "      <th>education</th>\n",
       "      <td>object</td>\n",
       "      <td>object</td>\n",
       "    </tr>\n",
       "    <tr>\n",
       "      <th>education_num</th>\n",
       "      <td>int64</td>\n",
       "      <td>int64</td>\n",
       "    </tr>\n",
       "    <tr>\n",
       "      <th>marital_status</th>\n",
       "      <td>object</td>\n",
       "      <td>object</td>\n",
       "    </tr>\n",
       "    <tr>\n",
       "      <th>occupation</th>\n",
       "      <td>object</td>\n",
       "      <td>object</td>\n",
       "    </tr>\n",
       "    <tr>\n",
       "      <th>relationship</th>\n",
       "      <td>object</td>\n",
       "      <td>object</td>\n",
       "    </tr>\n",
       "    <tr>\n",
       "      <th>race</th>\n",
       "      <td>object</td>\n",
       "      <td>object</td>\n",
       "    </tr>\n",
       "    <tr>\n",
       "      <th>sex</th>\n",
       "      <td>object</td>\n",
       "      <td>object</td>\n",
       "    </tr>\n",
       "    <tr>\n",
       "      <th>capital_gain</th>\n",
       "      <td>int64</td>\n",
       "      <td>int64</td>\n",
       "    </tr>\n",
       "    <tr>\n",
       "      <th>capital_loss</th>\n",
       "      <td>int64</td>\n",
       "      <td>int64</td>\n",
       "    </tr>\n",
       "    <tr>\n",
       "      <th>hours_per_week</th>\n",
       "      <td>int64</td>\n",
       "      <td>int64</td>\n",
       "    </tr>\n",
       "    <tr>\n",
       "      <th>native_country</th>\n",
       "      <td>object</td>\n",
       "      <td>object</td>\n",
       "    </tr>\n",
       "    <tr>\n",
       "      <th>wage_class</th>\n",
       "      <td>object</td>\n",
       "      <td>object</td>\n",
       "    </tr>\n",
       "  </tbody>\n",
       "</table>\n",
       "</div>"
      ],
      "text/plain": [
       "               train_set test_set\n",
       "age                int64    int64\n",
       "workclass         object   object\n",
       "fnlwgt             int64    int64\n",
       "education         object   object\n",
       "education_num      int64    int64\n",
       "marital_status    object   object\n",
       "occupation        object   object\n",
       "relationship      object   object\n",
       "race              object   object\n",
       "sex               object   object\n",
       "capital_gain       int64    int64\n",
       "capital_loss       int64    int64\n",
       "hours_per_week     int64    int64\n",
       "native_country    object   object\n",
       "wage_class        object   object"
      ]
     },
     "execution_count": 8,
     "metadata": {},
     "output_type": "execute_result"
    }
   ],
   "source": [
    "pd.DataFrame([train_set.dtypes, test_set.dtypes], index = ['train_set','test_set']).T"
   ]
  },
  {
   "cell_type": "markdown",
   "metadata": {},
   "source": [
    "# Find the columns having data types as object"
   ]
  },
  {
   "cell_type": "code",
   "execution_count": 9,
   "metadata": {},
   "outputs": [
    {
     "data": {
      "text/plain": [
       "age               0\n",
       "workclass         0\n",
       "fnlwgt            0\n",
       "education         0\n",
       "education_num     0\n",
       "marital_status    0\n",
       "occupation        0\n",
       "relationship      0\n",
       "race              0\n",
       "sex               0\n",
       "capital_gain      0\n",
       "capital_loss      0\n",
       "hours_per_week    0\n",
       "native_country    0\n",
       "wage_class        0\n",
       "dtype: int64"
      ]
     },
     "execution_count": 9,
     "metadata": {},
     "output_type": "execute_result"
    }
   ],
   "source": [
    "# Check for null values in training set\n",
    "train_set.isnull().sum()"
   ]
  },
  {
   "cell_type": "code",
   "execution_count": 10,
   "metadata": {},
   "outputs": [
    {
     "data": {
      "text/plain": [
       "age               0\n",
       "workclass         0\n",
       "fnlwgt            0\n",
       "education         0\n",
       "education_num     0\n",
       "marital_status    0\n",
       "occupation        0\n",
       "relationship      0\n",
       "race              0\n",
       "sex               0\n",
       "capital_gain      0\n",
       "capital_loss      0\n",
       "hours_per_week    0\n",
       "native_country    0\n",
       "wage_class        0\n",
       "dtype: int64"
      ]
     },
     "execution_count": 10,
     "metadata": {},
     "output_type": "execute_result"
    }
   ],
   "source": [
    "# Check for null values in test set\n",
    "test_set.isnull().sum()"
   ]
  },
  {
   "cell_type": "code",
   "execution_count": 11,
   "metadata": {},
   "outputs": [
    {
     "data": {
      "text/html": [
       "<div>\n",
       "<style scoped>\n",
       "    .dataframe tbody tr th:only-of-type {\n",
       "        vertical-align: middle;\n",
       "    }\n",
       "\n",
       "    .dataframe tbody tr th {\n",
       "        vertical-align: top;\n",
       "    }\n",
       "\n",
       "    .dataframe thead th {\n",
       "        text-align: right;\n",
       "    }\n",
       "</style>\n",
       "<table border=\"1\" class=\"dataframe\">\n",
       "  <thead>\n",
       "    <tr style=\"text-align: right;\">\n",
       "      <th></th>\n",
       "      <th>age</th>\n",
       "      <th>fnlwgt</th>\n",
       "      <th>education_num</th>\n",
       "      <th>capital_gain</th>\n",
       "      <th>capital_loss</th>\n",
       "      <th>hours_per_week</th>\n",
       "    </tr>\n",
       "  </thead>\n",
       "  <tbody>\n",
       "    <tr>\n",
       "      <th>count</th>\n",
       "      <td>32561.000000</td>\n",
       "      <td>3.256100e+04</td>\n",
       "      <td>32561.000000</td>\n",
       "      <td>32561.000000</td>\n",
       "      <td>32561.000000</td>\n",
       "      <td>32561.000000</td>\n",
       "    </tr>\n",
       "    <tr>\n",
       "      <th>mean</th>\n",
       "      <td>38.581647</td>\n",
       "      <td>1.897784e+05</td>\n",
       "      <td>10.080679</td>\n",
       "      <td>1077.648844</td>\n",
       "      <td>87.303830</td>\n",
       "      <td>40.437456</td>\n",
       "    </tr>\n",
       "    <tr>\n",
       "      <th>std</th>\n",
       "      <td>13.640433</td>\n",
       "      <td>1.055500e+05</td>\n",
       "      <td>2.572720</td>\n",
       "      <td>7385.292085</td>\n",
       "      <td>402.960219</td>\n",
       "      <td>12.347429</td>\n",
       "    </tr>\n",
       "    <tr>\n",
       "      <th>min</th>\n",
       "      <td>17.000000</td>\n",
       "      <td>1.228500e+04</td>\n",
       "      <td>1.000000</td>\n",
       "      <td>0.000000</td>\n",
       "      <td>0.000000</td>\n",
       "      <td>1.000000</td>\n",
       "    </tr>\n",
       "    <tr>\n",
       "      <th>25%</th>\n",
       "      <td>28.000000</td>\n",
       "      <td>1.178270e+05</td>\n",
       "      <td>9.000000</td>\n",
       "      <td>0.000000</td>\n",
       "      <td>0.000000</td>\n",
       "      <td>40.000000</td>\n",
       "    </tr>\n",
       "    <tr>\n",
       "      <th>50%</th>\n",
       "      <td>37.000000</td>\n",
       "      <td>1.783560e+05</td>\n",
       "      <td>10.000000</td>\n",
       "      <td>0.000000</td>\n",
       "      <td>0.000000</td>\n",
       "      <td>40.000000</td>\n",
       "    </tr>\n",
       "    <tr>\n",
       "      <th>75%</th>\n",
       "      <td>48.000000</td>\n",
       "      <td>2.370510e+05</td>\n",
       "      <td>12.000000</td>\n",
       "      <td>0.000000</td>\n",
       "      <td>0.000000</td>\n",
       "      <td>45.000000</td>\n",
       "    </tr>\n",
       "    <tr>\n",
       "      <th>max</th>\n",
       "      <td>90.000000</td>\n",
       "      <td>1.484705e+06</td>\n",
       "      <td>16.000000</td>\n",
       "      <td>99999.000000</td>\n",
       "      <td>4356.000000</td>\n",
       "      <td>99.000000</td>\n",
       "    </tr>\n",
       "  </tbody>\n",
       "</table>\n",
       "</div>"
      ],
      "text/plain": [
       "                age        fnlwgt  education_num  capital_gain  capital_loss  \\\n",
       "count  32561.000000  3.256100e+04   32561.000000  32561.000000  32561.000000   \n",
       "mean      38.581647  1.897784e+05      10.080679   1077.648844     87.303830   \n",
       "std       13.640433  1.055500e+05       2.572720   7385.292085    402.960219   \n",
       "min       17.000000  1.228500e+04       1.000000      0.000000      0.000000   \n",
       "25%       28.000000  1.178270e+05       9.000000      0.000000      0.000000   \n",
       "50%       37.000000  1.783560e+05      10.000000      0.000000      0.000000   \n",
       "75%       48.000000  2.370510e+05      12.000000      0.000000      0.000000   \n",
       "max       90.000000  1.484705e+06      16.000000  99999.000000   4356.000000   \n",
       "\n",
       "       hours_per_week  \n",
       "count    32561.000000  \n",
       "mean        40.437456  \n",
       "std         12.347429  \n",
       "min          1.000000  \n",
       "25%         40.000000  \n",
       "50%         40.000000  \n",
       "75%         45.000000  \n",
       "max         99.000000  "
      ]
     },
     "execution_count": 11,
     "metadata": {},
     "output_type": "execute_result"
    }
   ],
   "source": [
    "#get summary of the data\n",
    "train_set.describe()"
   ]
  },
  {
   "cell_type": "code",
   "execution_count": 12,
   "metadata": {},
   "outputs": [],
   "source": [
    "#get datatypes of train and test data\n",
    "train_data_types=pd.DataFrame(train_set.dtypes,columns=['datatype'])\n",
    "test_data_types=pd.DataFrame(train_set.dtypes,columns=['datatype'])"
   ]
  },
  {
   "cell_type": "code",
   "execution_count": 13,
   "metadata": {},
   "outputs": [],
   "source": [
    "#get columns having datatype=object in training and test dataset\n",
    "train_data_obj=train_data_types[train_data_types['datatype']=='object'].reset_index()\n",
    "test_data_obj=test_data_types[test_data_types['datatype']=='object'].reset_index()"
   ]
  },
  {
   "cell_type": "code",
   "execution_count": 14,
   "metadata": {},
   "outputs": [
    {
     "name": "stdout",
     "output_type": "stream",
     "text": [
      "--------------------------------------------------\n",
      "unique values for :  workclass\n",
      " Private             22696\n",
      " Self-emp-not-inc     2541\n",
      " Local-gov            2093\n",
      " ?                    1836\n",
      " State-gov            1298\n",
      " Self-emp-inc         1116\n",
      " Federal-gov           960\n",
      " Without-pay            14\n",
      " Never-worked            7\n",
      "Name: workclass, dtype: int64\n",
      "--------------------------------------------------\n",
      "unique values for :  education\n",
      " HS-grad         10501\n",
      " Some-college     7291\n",
      " Bachelors        5355\n",
      " Masters          1723\n",
      " Assoc-voc        1382\n",
      " 11th             1175\n",
      " Assoc-acdm       1067\n",
      " 10th              933\n",
      " 7th-8th           646\n",
      " Prof-school       576\n",
      " 9th               514\n",
      " 12th              433\n",
      " Doctorate         413\n",
      " 5th-6th           333\n",
      " 1st-4th           168\n",
      " Preschool          51\n",
      "Name: education, dtype: int64\n",
      "--------------------------------------------------\n",
      "unique values for :  marital_status\n",
      " Married-civ-spouse       14976\n",
      " Never-married            10683\n",
      " Divorced                  4443\n",
      " Separated                 1025\n",
      " Widowed                    993\n",
      " Married-spouse-absent      418\n",
      " Married-AF-spouse           23\n",
      "Name: marital_status, dtype: int64\n",
      "--------------------------------------------------\n",
      "unique values for :  occupation\n",
      " Prof-specialty       4140\n",
      " Craft-repair         4099\n",
      " Exec-managerial      4066\n",
      " Adm-clerical         3770\n",
      " Sales                3650\n",
      " Other-service        3295\n",
      " Machine-op-inspct    2002\n",
      " ?                    1843\n",
      " Transport-moving     1597\n",
      " Handlers-cleaners    1370\n",
      " Farming-fishing       994\n",
      " Tech-support          928\n",
      " Protective-serv       649\n",
      " Priv-house-serv       149\n",
      " Armed-Forces            9\n",
      "Name: occupation, dtype: int64\n",
      "--------------------------------------------------\n",
      "unique values for :  relationship\n",
      " Husband           13193\n",
      " Not-in-family      8305\n",
      " Own-child          5068\n",
      " Unmarried          3446\n",
      " Wife               1568\n",
      " Other-relative      981\n",
      "Name: relationship, dtype: int64\n",
      "--------------------------------------------------\n",
      "unique values for :  race\n",
      " White                 27816\n",
      " Black                  3124\n",
      " Asian-Pac-Islander     1039\n",
      " Amer-Indian-Eskimo      311\n",
      " Other                   271\n",
      "Name: race, dtype: int64\n",
      "--------------------------------------------------\n",
      "unique values for :  sex\n",
      " Male      21790\n",
      " Female    10771\n",
      "Name: sex, dtype: int64\n",
      "--------------------------------------------------\n",
      "unique values for :  native_country\n",
      " United-States                 29170\n",
      " Mexico                          643\n",
      " ?                               583\n",
      " Philippines                     198\n",
      " Germany                         137\n",
      " Canada                          121\n",
      " Puerto-Rico                     114\n",
      " El-Salvador                     106\n",
      " India                           100\n",
      " Cuba                             95\n",
      " England                          90\n",
      " Jamaica                          81\n",
      " South                            80\n",
      " China                            75\n",
      " Italy                            73\n",
      " Dominican-Republic               70\n",
      " Vietnam                          67\n",
      " Guatemala                        64\n",
      " Japan                            62\n",
      " Poland                           60\n",
      " Columbia                         59\n",
      " Taiwan                           51\n",
      " Haiti                            44\n",
      " Iran                             43\n",
      " Portugal                         37\n",
      " Nicaragua                        34\n",
      " Peru                             31\n",
      " Greece                           29\n",
      " France                           29\n",
      " Ecuador                          28\n",
      " Ireland                          24\n",
      " Hong                             20\n",
      " Trinadad&Tobago                  19\n",
      " Cambodia                         19\n",
      " Laos                             18\n",
      " Thailand                         18\n",
      " Yugoslavia                       16\n",
      " Outlying-US(Guam-USVI-etc)       14\n",
      " Hungary                          13\n",
      " Honduras                         13\n",
      " Scotland                         12\n",
      " Holand-Netherlands                1\n",
      "Name: native_country, dtype: int64\n",
      "--------------------------------------------------\n",
      "unique values for :  wage_class\n",
      " <=50K    24720\n",
      " >50K      7841\n",
      "Name: wage_class, dtype: int64\n"
     ]
    }
   ],
   "source": [
    "#examine unique values of categorical variable in training set\n",
    "\n",
    "for i in train_data_obj['index']:\n",
    "    print('-'*50)\n",
    "    print(\"unique values for : \",i)\n",
    "    print(train_set[i].value_counts())"
   ]
  },
  {
   "cell_type": "code",
   "execution_count": 15,
   "metadata": {},
   "outputs": [
    {
     "name": "stdout",
     "output_type": "stream",
     "text": [
      "--------------------------------------------------\n",
      "unique values for :  workclass\n",
      " Private             11210\n",
      " Self-emp-not-inc     1321\n",
      " Local-gov            1043\n",
      " ?                     963\n",
      " State-gov             683\n",
      " Self-emp-inc          579\n",
      " Federal-gov           472\n",
      " Without-pay             7\n",
      " Never-worked            3\n",
      "Name: workclass, dtype: int64\n",
      "--------------------------------------------------\n",
      "unique values for :  education\n",
      " HS-grad         5283\n",
      " Some-college    3587\n",
      " Bachelors       2670\n",
      " Masters          934\n",
      " Assoc-voc        679\n",
      " 11th             637\n",
      " Assoc-acdm       534\n",
      " 10th             456\n",
      " 7th-8th          309\n",
      " Prof-school      258\n",
      " 9th              242\n",
      " 12th             224\n",
      " Doctorate        181\n",
      " 5th-6th          176\n",
      " 1st-4th           79\n",
      " Preschool         32\n",
      "Name: education, dtype: int64\n",
      "--------------------------------------------------\n",
      "unique values for :  marital_status\n",
      " Married-civ-spouse       7403\n",
      " Never-married            5434\n",
      " Divorced                 2190\n",
      " Widowed                   525\n",
      " Separated                 505\n",
      " Married-spouse-absent     210\n",
      " Married-AF-spouse          14\n",
      "Name: marital_status, dtype: int64\n",
      "--------------------------------------------------\n",
      "unique values for :  occupation\n",
      " Prof-specialty       2032\n",
      " Exec-managerial      2020\n",
      " Craft-repair         2013\n",
      " Sales                1854\n",
      " Adm-clerical         1841\n",
      " Other-service        1628\n",
      " Machine-op-inspct    1020\n",
      " ?                     966\n",
      " Transport-moving      758\n",
      " Handlers-cleaners     702\n",
      " Tech-support          518\n",
      " Farming-fishing       496\n",
      " Protective-serv       334\n",
      " Priv-house-serv        93\n",
      " Armed-Forces            6\n",
      "Name: occupation, dtype: int64\n",
      "--------------------------------------------------\n",
      "unique values for :  relationship\n",
      " Husband           6523\n",
      " Not-in-family     4278\n",
      " Own-child         2513\n",
      " Unmarried         1679\n",
      " Wife               763\n",
      " Other-relative     525\n",
      "Name: relationship, dtype: int64\n",
      "--------------------------------------------------\n",
      "unique values for :  race\n",
      " White                 13946\n",
      " Black                  1561\n",
      " Asian-Pac-Islander      480\n",
      " Amer-Indian-Eskimo      159\n",
      " Other                   135\n",
      "Name: race, dtype: int64\n",
      "--------------------------------------------------\n",
      "unique values for :  sex\n",
      " Male      10860\n",
      " Female     5421\n",
      "Name: sex, dtype: int64\n",
      "--------------------------------------------------\n",
      "unique values for :  native_country\n",
      " United-States                 14662\n",
      " Mexico                          308\n",
      " ?                               274\n",
      " Philippines                      97\n",
      " Puerto-Rico                      70\n",
      " Germany                          69\n",
      " Canada                           61\n",
      " India                            51\n",
      " El-Salvador                      49\n",
      " China                            47\n",
      " Cuba                             43\n",
      " England                          37\n",
      " South                            35\n",
      " Dominican-Republic               33\n",
      " Italy                            32\n",
      " Haiti                            31\n",
      " Japan                            30\n",
      " Portugal                         30\n",
      " Poland                           27\n",
      " Columbia                         26\n",
      " Jamaica                          25\n",
      " Guatemala                        24\n",
      " Greece                           20\n",
      " Vietnam                          19\n",
      " Ecuador                          17\n",
      " Iran                             16\n",
      " Peru                             15\n",
      " Nicaragua                        15\n",
      " Taiwan                           14\n",
      " Ireland                          13\n",
      " Thailand                         12\n",
      " Hong                             10\n",
      " Scotland                          9\n",
      " Cambodia                          9\n",
      " Outlying-US(Guam-USVI-etc)        9\n",
      " France                            9\n",
      " Trinadad&Tobago                   8\n",
      " Honduras                          7\n",
      " Yugoslavia                        7\n",
      " Hungary                           6\n",
      " Laos                              5\n",
      "Name: native_country, dtype: int64\n",
      "--------------------------------------------------\n",
      "unique values for :  wage_class\n",
      " <=50K.    12435\n",
      " >50K.      3846\n",
      "Name: wage_class, dtype: int64\n"
     ]
    }
   ],
   "source": [
    "#examine unique values of categorical variable in test set\n",
    "\n",
    "for i in test_data_obj['index']:\n",
    "    print('-'*50)\n",
    "    print(\"unique values for : \",i)\n",
    "    print(test_set[i].value_counts())"
   ]
  },
  {
   "cell_type": "code",
   "execution_count": 16,
   "metadata": {},
   "outputs": [],
   "source": [
    "# Now Convert the categorical variable to numerical values\n",
    "from sklearn.preprocessing import LabelEncoder"
   ]
  },
  {
   "cell_type": "code",
   "execution_count": 17,
   "metadata": {},
   "outputs": [],
   "source": [
    "lb_encode=LabelEncoder()\n",
    "\n",
    "for i in train_data_obj['index']:\n",
    "    train_set[i]=lb_encode.fit_transform(train_set[i])\n",
    "    \n",
    "for i in test_data_obj['index']:\n",
    "    test_set[i]=lb_encode.fit_transform(test_set[i])"
   ]
  },
  {
   "cell_type": "code",
   "execution_count": 18,
   "metadata": {},
   "outputs": [
    {
     "name": "stdout",
     "output_type": "stream",
     "text": [
      "<class 'pandas.core.frame.DataFrame'>\n",
      "RangeIndex: 32561 entries, 0 to 32560\n",
      "Data columns (total 15 columns):\n",
      "age               32561 non-null int64\n",
      "workclass         32561 non-null int64\n",
      "fnlwgt            32561 non-null int64\n",
      "education         32561 non-null int64\n",
      "education_num     32561 non-null int64\n",
      "marital_status    32561 non-null int64\n",
      "occupation        32561 non-null int64\n",
      "relationship      32561 non-null int64\n",
      "race              32561 non-null int64\n",
      "sex               32561 non-null int64\n",
      "capital_gain      32561 non-null int64\n",
      "capital_loss      32561 non-null int64\n",
      "hours_per_week    32561 non-null int64\n",
      "native_country    32561 non-null int64\n",
      "wage_class        32561 non-null int64\n",
      "dtypes: int64(15)\n",
      "memory usage: 3.7 MB\n"
     ]
    }
   ],
   "source": [
    "train_set.info()"
   ]
  },
  {
   "cell_type": "code",
   "execution_count": 19,
   "metadata": {},
   "outputs": [
    {
     "name": "stdout",
     "output_type": "stream",
     "text": [
      "<class 'pandas.core.frame.DataFrame'>\n",
      "RangeIndex: 16281 entries, 0 to 16280\n",
      "Data columns (total 15 columns):\n",
      "age               16281 non-null int64\n",
      "workclass         16281 non-null int64\n",
      "fnlwgt            16281 non-null int64\n",
      "education         16281 non-null int64\n",
      "education_num     16281 non-null int64\n",
      "marital_status    16281 non-null int64\n",
      "occupation        16281 non-null int64\n",
      "relationship      16281 non-null int64\n",
      "race              16281 non-null int64\n",
      "sex               16281 non-null int64\n",
      "capital_gain      16281 non-null int64\n",
      "capital_loss      16281 non-null int64\n",
      "hours_per_week    16281 non-null int64\n",
      "native_country    16281 non-null int64\n",
      "wage_class        16281 non-null int64\n",
      "dtypes: int64(15)\n",
      "memory usage: 1.9 MB\n"
     ]
    }
   ],
   "source": [
    "test_set.info()"
   ]
  },
  {
   "cell_type": "markdown",
   "metadata": {},
   "source": [
    "# Concatenate training datasets and test datasets into a common dataframe Sample"
   ]
  },
  {
   "cell_type": "code",
   "execution_count": 20,
   "metadata": {},
   "outputs": [],
   "source": [
    "X_train = train_set.copy()\n",
    "X_test = test_set.copy()"
   ]
  },
  {
   "cell_type": "code",
   "execution_count": 21,
   "metadata": {},
   "outputs": [
    {
     "data": {
      "text/plain": [
       "Index(['age', 'workclass', 'fnlwgt', 'education', 'education_num',\n",
       "       'marital_status', 'occupation', 'relationship', 'race', 'sex',\n",
       "       'capital_gain', 'capital_loss', 'hours_per_week', 'native_country',\n",
       "       'wage_class'],\n",
       "      dtype='object')"
      ]
     },
     "execution_count": 21,
     "metadata": {},
     "output_type": "execute_result"
    }
   ],
   "source": [
    "X_train.columns"
   ]
  },
  {
   "cell_type": "code",
   "execution_count": 22,
   "metadata": {},
   "outputs": [],
   "source": [
    "Sample = X_train.append(X_test)"
   ]
  },
  {
   "cell_type": "markdown",
   "metadata": {},
   "source": [
    "# Summary Statistics of Continuous Values"
   ]
  },
  {
   "cell_type": "code",
   "execution_count": 23,
   "metadata": {},
   "outputs": [
    {
     "data": {
      "text/html": [
       "<div>\n",
       "<style scoped>\n",
       "    .dataframe tbody tr th:only-of-type {\n",
       "        vertical-align: middle;\n",
       "    }\n",
       "\n",
       "    .dataframe tbody tr th {\n",
       "        vertical-align: top;\n",
       "    }\n",
       "\n",
       "    .dataframe thead th {\n",
       "        text-align: right;\n",
       "    }\n",
       "</style>\n",
       "<table border=\"1\" class=\"dataframe\">\n",
       "  <thead>\n",
       "    <tr style=\"text-align: right;\">\n",
       "      <th></th>\n",
       "      <th>age</th>\n",
       "      <th>workclass</th>\n",
       "      <th>fnlwgt</th>\n",
       "      <th>education</th>\n",
       "      <th>education_num</th>\n",
       "      <th>marital_status</th>\n",
       "      <th>occupation</th>\n",
       "      <th>relationship</th>\n",
       "      <th>race</th>\n",
       "      <th>sex</th>\n",
       "      <th>capital_gain</th>\n",
       "      <th>capital_loss</th>\n",
       "      <th>hours_per_week</th>\n",
       "      <th>native_country</th>\n",
       "      <th>wage_class</th>\n",
       "    </tr>\n",
       "  </thead>\n",
       "  <tbody>\n",
       "    <tr>\n",
       "      <th>count</th>\n",
       "      <td>48842.000000</td>\n",
       "      <td>48842.000000</td>\n",
       "      <td>4.884200e+04</td>\n",
       "      <td>48842.000000</td>\n",
       "      <td>48842.000000</td>\n",
       "      <td>48842.000000</td>\n",
       "      <td>48842.000000</td>\n",
       "      <td>48842.000000</td>\n",
       "      <td>48842.000000</td>\n",
       "      <td>48842.000000</td>\n",
       "      <td>48842.000000</td>\n",
       "      <td>48842.000000</td>\n",
       "      <td>48842.000000</td>\n",
       "      <td>48842.000000</td>\n",
       "      <td>48842.000000</td>\n",
       "    </tr>\n",
       "    <tr>\n",
       "      <th>mean</th>\n",
       "      <td>38.643585</td>\n",
       "      <td>3.870439</td>\n",
       "      <td>1.896641e+05</td>\n",
       "      <td>10.288420</td>\n",
       "      <td>10.078089</td>\n",
       "      <td>2.618750</td>\n",
       "      <td>6.577700</td>\n",
       "      <td>1.443287</td>\n",
       "      <td>3.668052</td>\n",
       "      <td>0.668482</td>\n",
       "      <td>1079.067626</td>\n",
       "      <td>87.502314</td>\n",
       "      <td>40.422382</td>\n",
       "      <td>36.431350</td>\n",
       "      <td>0.239282</td>\n",
       "    </tr>\n",
       "    <tr>\n",
       "      <th>std</th>\n",
       "      <td>13.710510</td>\n",
       "      <td>1.464234</td>\n",
       "      <td>1.056040e+05</td>\n",
       "      <td>3.874492</td>\n",
       "      <td>2.570973</td>\n",
       "      <td>1.507703</td>\n",
       "      <td>4.230509</td>\n",
       "      <td>1.602151</td>\n",
       "      <td>0.845986</td>\n",
       "      <td>0.470764</td>\n",
       "      <td>7452.019058</td>\n",
       "      <td>403.004552</td>\n",
       "      <td>12.391444</td>\n",
       "      <td>7.723151</td>\n",
       "      <td>0.426649</td>\n",
       "    </tr>\n",
       "    <tr>\n",
       "      <th>min</th>\n",
       "      <td>17.000000</td>\n",
       "      <td>0.000000</td>\n",
       "      <td>1.228500e+04</td>\n",
       "      <td>0.000000</td>\n",
       "      <td>1.000000</td>\n",
       "      <td>0.000000</td>\n",
       "      <td>0.000000</td>\n",
       "      <td>0.000000</td>\n",
       "      <td>0.000000</td>\n",
       "      <td>0.000000</td>\n",
       "      <td>0.000000</td>\n",
       "      <td>0.000000</td>\n",
       "      <td>1.000000</td>\n",
       "      <td>0.000000</td>\n",
       "      <td>0.000000</td>\n",
       "    </tr>\n",
       "    <tr>\n",
       "      <th>25%</th>\n",
       "      <td>28.000000</td>\n",
       "      <td>4.000000</td>\n",
       "      <td>1.175505e+05</td>\n",
       "      <td>9.000000</td>\n",
       "      <td>9.000000</td>\n",
       "      <td>2.000000</td>\n",
       "      <td>3.000000</td>\n",
       "      <td>0.000000</td>\n",
       "      <td>4.000000</td>\n",
       "      <td>0.000000</td>\n",
       "      <td>0.000000</td>\n",
       "      <td>0.000000</td>\n",
       "      <td>40.000000</td>\n",
       "      <td>38.000000</td>\n",
       "      <td>0.000000</td>\n",
       "    </tr>\n",
       "    <tr>\n",
       "      <th>50%</th>\n",
       "      <td>37.000000</td>\n",
       "      <td>4.000000</td>\n",
       "      <td>1.781445e+05</td>\n",
       "      <td>11.000000</td>\n",
       "      <td>10.000000</td>\n",
       "      <td>2.000000</td>\n",
       "      <td>7.000000</td>\n",
       "      <td>1.000000</td>\n",
       "      <td>4.000000</td>\n",
       "      <td>1.000000</td>\n",
       "      <td>0.000000</td>\n",
       "      <td>0.000000</td>\n",
       "      <td>40.000000</td>\n",
       "      <td>39.000000</td>\n",
       "      <td>0.000000</td>\n",
       "    </tr>\n",
       "    <tr>\n",
       "      <th>75%</th>\n",
       "      <td>48.000000</td>\n",
       "      <td>4.000000</td>\n",
       "      <td>2.376420e+05</td>\n",
       "      <td>12.000000</td>\n",
       "      <td>12.000000</td>\n",
       "      <td>4.000000</td>\n",
       "      <td>10.000000</td>\n",
       "      <td>3.000000</td>\n",
       "      <td>4.000000</td>\n",
       "      <td>1.000000</td>\n",
       "      <td>0.000000</td>\n",
       "      <td>0.000000</td>\n",
       "      <td>45.000000</td>\n",
       "      <td>39.000000</td>\n",
       "      <td>0.000000</td>\n",
       "    </tr>\n",
       "    <tr>\n",
       "      <th>max</th>\n",
       "      <td>90.000000</td>\n",
       "      <td>8.000000</td>\n",
       "      <td>1.490400e+06</td>\n",
       "      <td>15.000000</td>\n",
       "      <td>16.000000</td>\n",
       "      <td>6.000000</td>\n",
       "      <td>14.000000</td>\n",
       "      <td>5.000000</td>\n",
       "      <td>4.000000</td>\n",
       "      <td>1.000000</td>\n",
       "      <td>99999.000000</td>\n",
       "      <td>4356.000000</td>\n",
       "      <td>99.000000</td>\n",
       "      <td>41.000000</td>\n",
       "      <td>1.000000</td>\n",
       "    </tr>\n",
       "  </tbody>\n",
       "</table>\n",
       "</div>"
      ],
      "text/plain": [
       "                age     workclass        fnlwgt     education  education_num  \\\n",
       "count  48842.000000  48842.000000  4.884200e+04  48842.000000   48842.000000   \n",
       "mean      38.643585      3.870439  1.896641e+05     10.288420      10.078089   \n",
       "std       13.710510      1.464234  1.056040e+05      3.874492       2.570973   \n",
       "min       17.000000      0.000000  1.228500e+04      0.000000       1.000000   \n",
       "25%       28.000000      4.000000  1.175505e+05      9.000000       9.000000   \n",
       "50%       37.000000      4.000000  1.781445e+05     11.000000      10.000000   \n",
       "75%       48.000000      4.000000  2.376420e+05     12.000000      12.000000   \n",
       "max       90.000000      8.000000  1.490400e+06     15.000000      16.000000   \n",
       "\n",
       "       marital_status    occupation  relationship          race           sex  \\\n",
       "count    48842.000000  48842.000000  48842.000000  48842.000000  48842.000000   \n",
       "mean         2.618750      6.577700      1.443287      3.668052      0.668482   \n",
       "std          1.507703      4.230509      1.602151      0.845986      0.470764   \n",
       "min          0.000000      0.000000      0.000000      0.000000      0.000000   \n",
       "25%          2.000000      3.000000      0.000000      4.000000      0.000000   \n",
       "50%          2.000000      7.000000      1.000000      4.000000      1.000000   \n",
       "75%          4.000000     10.000000      3.000000      4.000000      1.000000   \n",
       "max          6.000000     14.000000      5.000000      4.000000      1.000000   \n",
       "\n",
       "       capital_gain  capital_loss  hours_per_week  native_country  \\\n",
       "count  48842.000000  48842.000000    48842.000000    48842.000000   \n",
       "mean    1079.067626     87.502314       40.422382       36.431350   \n",
       "std     7452.019058    403.004552       12.391444        7.723151   \n",
       "min        0.000000      0.000000        1.000000        0.000000   \n",
       "25%        0.000000      0.000000       40.000000       38.000000   \n",
       "50%        0.000000      0.000000       40.000000       39.000000   \n",
       "75%        0.000000      0.000000       45.000000       39.000000   \n",
       "max    99999.000000   4356.000000       99.000000       41.000000   \n",
       "\n",
       "         wage_class  \n",
       "count  48842.000000  \n",
       "mean       0.239282  \n",
       "std        0.426649  \n",
       "min        0.000000  \n",
       "25%        0.000000  \n",
       "50%        0.000000  \n",
       "75%        0.000000  \n",
       "max        1.000000  "
      ]
     },
     "execution_count": 23,
     "metadata": {},
     "output_type": "execute_result"
    }
   ],
   "source": [
    "Sample.describe()"
   ]
  },
  {
   "cell_type": "markdown",
   "metadata": {
    "collapsed": true
   },
   "source": [
    "# Eliminating irrelevant data value ? from the training and test data set"
   ]
  },
  {
   "cell_type": "code",
   "execution_count": 25,
   "metadata": {},
   "outputs": [],
   "source": [
    "train_set = train_set.apply(lambda x : x.replace(' ?',np.nan))\n",
    "test_set = test_set.apply(lambda x : x.replace(' ?',np.nan))"
   ]
  },
  {
   "cell_type": "code",
   "execution_count": 26,
   "metadata": {},
   "outputs": [
    {
     "data": {
      "text/plain": [
       "age               0\n",
       "workclass         0\n",
       "fnlwgt            0\n",
       "education         0\n",
       "education_num     0\n",
       "marital_status    0\n",
       "occupation        0\n",
       "relationship      0\n",
       "race              0\n",
       "sex               0\n",
       "capital_gain      0\n",
       "capital_loss      0\n",
       "hours_per_week    0\n",
       "native_country    0\n",
       "wage_class        0\n",
       "dtype: int64"
      ]
     },
     "execution_count": 26,
     "metadata": {},
     "output_type": "execute_result"
    }
   ],
   "source": [
    "train_set.isnull().sum()"
   ]
  },
  {
   "cell_type": "code",
   "execution_count": 27,
   "metadata": {},
   "outputs": [
    {
     "data": {
      "text/plain": [
       "age               0\n",
       "workclass         0\n",
       "fnlwgt            0\n",
       "education         0\n",
       "education_num     0\n",
       "marital_status    0\n",
       "occupation        0\n",
       "relationship      0\n",
       "race              0\n",
       "sex               0\n",
       "capital_gain      0\n",
       "capital_loss      0\n",
       "hours_per_week    0\n",
       "native_country    0\n",
       "wage_class        0\n",
       "dtype: int64"
      ]
     },
     "execution_count": 27,
     "metadata": {},
     "output_type": "execute_result"
    }
   ],
   "source": [
    "test_set.isnull().sum()"
   ]
  },
  {
   "cell_type": "code",
   "execution_count": 28,
   "metadata": {},
   "outputs": [],
   "source": [
    "test_set.dropna(inplace=True)\n",
    "train_set.dropna(inplace=True)"
   ]
  },
  {
   "cell_type": "code",
   "execution_count": 29,
   "metadata": {},
   "outputs": [
    {
     "data": {
      "text/plain": [
       "(age               0\n",
       " workclass         0\n",
       " fnlwgt            0\n",
       " education         0\n",
       " education_num     0\n",
       " marital_status    0\n",
       " occupation        0\n",
       " relationship      0\n",
       " race              0\n",
       " sex               0\n",
       " capital_gain      0\n",
       " capital_loss      0\n",
       " hours_per_week    0\n",
       " native_country    0\n",
       " wage_class        0\n",
       " dtype: int64, age               0\n",
       " workclass         0\n",
       " fnlwgt            0\n",
       " education         0\n",
       " education_num     0\n",
       " marital_status    0\n",
       " occupation        0\n",
       " relationship      0\n",
       " race              0\n",
       " sex               0\n",
       " capital_gain      0\n",
       " capital_loss      0\n",
       " hours_per_week    0\n",
       " native_country    0\n",
       " wage_class        0\n",
       " dtype: int64)"
      ]
     },
     "execution_count": 29,
     "metadata": {},
     "output_type": "execute_result"
    }
   ],
   "source": [
    "test_set.isnull().sum(),train_set.isnull().sum()"
   ]
  },
  {
   "cell_type": "markdown",
   "metadata": {},
   "source": [
    "#### Note\n",
    "Negative class is around 76% of the whole data samples.\n",
    "Positive class is around 24 % of the whole data samples.\n",
    "The dataset seems to be almost  a balanced dataset."
   ]
  },
  {
   "cell_type": "code",
   "execution_count": 30,
   "metadata": {},
   "outputs": [
    {
     "data": {
      "image/png": "[encoded data removed]",
      "text/plain": [
       "<matplotlib.figure.Figure at 0xbad2668>"
      ]
     },
     "metadata": {},
     "output_type": "display_data"
    },
    {
     "data": {
      "image/png": "[encoded data removed]",
      "text/plain": [
       "<matplotlib.figure.Figure at 0xc609208>"
      ]
     },
     "metadata": {},
     "output_type": "display_data"
    },
    {
     "data": {
      "image/png": "[encoded data removed]",
      "text/plain": [
       "<matplotlib.figure.Figure at 0xc6bea90>"
      ]
     },
     "metadata": {},
     "output_type": "display_data"
    },
    {
     "data": {
      "image/png": "[encoded data removed]",
      "text/plain": [
       "<matplotlib.figure.Figure at 0xc71a320>"
      ]
     },
     "metadata": {},
     "output_type": "display_data"
    }
   ],
   "source": [
    "# Annual Income Data Analysis using Visualization\n",
    "\n",
    "import seaborn as sns\n",
    "import matplotlib.pyplot as plt\n",
    "plt.figure(figsize=(40,20))\n",
    "sns.set_style('whitegrid')\n",
    "%matplotlib inline\n",
    "sns.countplot('sex',data=train_set,hue='wage_class')\n",
    "\n",
    "g = sns.countplot('workclass',data=train_set,hue='wage_class')\n",
    "g.set_xticklabels(g.get_xticklabels(), rotation = 90, fontsize = 12)\n",
    "plt.show()\n",
    "\n",
    "\n",
    "g = sns.countplot('education',data=train_set,hue='wage_class')\n",
    "g.set_xticklabels(g.get_xticklabels(), rotation = 90, fontsize = 12)\n",
    "plt.show()\n",
    "\n",
    "g = sns.countplot('wage_class',data=train_set)\n",
    "g.set_xticklabels(g.get_xticklabels(), rotation = 45, fontsize = 12)\n",
    "plt.show()\n",
    "\n",
    "pd.DataFrame.hist(train_set,figsize = [15,15])\n",
    "plt.show()"
   ]
  },
  {
   "cell_type": "code",
   "execution_count": 31,
   "metadata": {},
   "outputs": [
    {
     "data": {
      "text/plain": [
       "array([39,  5, 23, 19,  0, 26, 35, 33, 16,  9,  2, 11, 20, 30, 22, 31,  4,\n",
       "        1, 37,  7, 25, 36, 14, 32,  6,  8, 10, 13,  3, 24, 41, 29, 28, 34,\n",
       "       38, 12, 27, 40, 17, 21, 18, 15], dtype=int64)"
      ]
     },
     "execution_count": 31,
     "metadata": {},
     "output_type": "execute_result"
    }
   ],
   "source": [
    "l = X_train.append(X_test)\n",
    "l.wage_class.value_counts()\n",
    "\n",
    "Features = l.drop('wage_class',axis=1)\n",
    "Labels = l['wage_class']\n",
    "\n",
    "Features.native_country.unique()"
   ]
  },
  {
   "cell_type": "markdown",
   "metadata": {},
   "source": [
    "# Separating the Training Label and Test Label from the the training and test Features variables"
   ]
  },
  {
   "cell_type": "code",
   "execution_count": 32,
   "metadata": {},
   "outputs": [],
   "source": [
    "x_train = X_train.drop('wage_class',axis=1)\n",
    "y_train = X_train['wage_class']\n",
    "\n",
    "x_test = X_test.drop('wage_class',axis=1)\n",
    "y_test = X_test['wage_class']"
   ]
  },
  {
   "cell_type": "markdown",
   "metadata": {},
   "source": [
    "#### Training Features and Labels"
   ]
  },
  {
   "cell_type": "code",
   "execution_count": 33,
   "metadata": {},
   "outputs": [],
   "source": [
    "X = x_train.values\n",
    "Y = y_train.values"
   ]
  },
  {
   "cell_type": "markdown",
   "metadata": {},
   "source": [
    "#### Validation Features and Labels"
   ]
  },
  {
   "cell_type": "code",
   "execution_count": 34,
   "metadata": {},
   "outputs": [],
   "source": [
    "Xtest = x_test.values\n",
    "Ytest = y_test.values"
   ]
  },
  {
   "cell_type": "code",
   "execution_count": 35,
   "metadata": {},
   "outputs": [
    {
     "data": {
      "text/plain": [
       "((32561, 14), (32561,), (32561, 14), (32561,), (16281, 14), (16281,))"
      ]
     },
     "execution_count": 35,
     "metadata": {},
     "output_type": "execute_result"
    }
   ],
   "source": [
    "x_train.shape,y_train.shape,X.shape,Y.shape,Xtest.shape,Ytest.shape"
   ]
  },
  {
   "cell_type": "code",
   "execution_count": 36,
   "metadata": {},
   "outputs": [
    {
     "data": {
      "text/plain": [
       "array([[    25,      4, 226802, ...,      0,     40,     38],\n",
       "       [    38,      4,  89814, ...,      0,     50,     38],\n",
       "       [    28,      2, 336951, ...,      0,     40,     38],\n",
       "       ...,\n",
       "       [    38,      4, 374983, ...,      0,     50,     38],\n",
       "       [    44,      4,  83891, ...,      0,     40,     38],\n",
       "       [    35,      5, 182148, ...,      0,     60,     38]], dtype=int64)"
      ]
     },
     "execution_count": 36,
     "metadata": {},
     "output_type": "execute_result"
    }
   ],
   "source": [
    "Xtest"
   ]
  },
  {
   "cell_type": "markdown",
   "metadata": {},
   "source": [
    "# Applying Logistic Regression"
   ]
  },
  {
   "cell_type": "code",
   "execution_count": 37,
   "metadata": {},
   "outputs": [
    {
     "name": "stdout",
     "output_type": "stream",
     "text": [
      "0.7950371598796143\n"
     ]
    }
   ],
   "source": [
    "model_accuracy = {}\n",
    "#Build the model\n",
    "LR = LogisticRegression()\n",
    "#traing the model \n",
    "LR.fit(X,Y)\n",
    "#Model parameters study\n",
    "Ypred = LR.predict(Xtest)\n",
    "Ypred_proba = LR.predict_proba(Xtest)\n",
    "# generate evaluation metrics\n",
    "print(metrics.accuracy_score(Ytest, Ypred))\n",
    "model_accuracy['Logistic Regression'] = metrics.accuracy_score(Ytest, Ypred)"
   ]
  },
  {
   "cell_type": "code",
   "execution_count": 38,
   "metadata": {},
   "outputs": [
    {
     "name": "stdout",
     "output_type": "stream",
     "text": [
      "[90, 8, 1490400, 15, 16, 6, 14, 5, 4, 1, 99999, 3770, 99, 40]\n",
      "(1, 14)\n",
      "Predicted Label \n",
      " \n",
      "[1]\n",
      "Prediction Probabilities \n",
      " \n",
      "[[1.39888101e-14 1.00000000e+00]]\n",
      "coefficients =  [[ 1.11309330e-02 -4.70782095e-03 -2.50620900e-06 -8.18891421e-03\n",
      "   5.58843192e-03 -1.26503101e-02 -2.02443731e-03 -1.34748846e-02\n",
      "  -4.28604764e-03  1.73228118e-03  3.28906863e-04  7.58241794e-04\n",
      "   8.52690210e-03 -4.25939519e-02]]\n"
     ]
    }
   ],
   "source": [
    "test_data =[]\n",
    "for i in x_test.columns:\n",
    "    test_data.append(x_test[i].max())\n",
    "print(test_data)\n",
    "test = np.array(test_data).reshape(-1,14)\n",
    "print(test.shape)\n",
    "print(\"Predicted Label \\n \")\n",
    "print(LR.predict(test))\n",
    "print('Prediction Probabilities \\n ')\n",
    "print(LR.predict_proba(test))\n",
    "print('coefficients = ',LR.coef_)\n"
   ]
  },
  {
   "cell_type": "markdown",
   "metadata": {},
   "source": [
    "#### Note\n",
    "That implies that there is a 100% possibility of the person to have a income > 50k for the input features as evident from prediction probability."
   ]
  },
  {
   "cell_type": "markdown",
   "metadata": {},
   "source": [
    "# Evaluation of Logistic Regression Model"
   ]
  },
  {
   "cell_type": "markdown",
   "metadata": {},
   "source": [
    "#### Confusion Matrix"
   ]
  },
  {
   "cell_type": "code",
   "execution_count": 42,
   "metadata": {},
   "outputs": [
    {
     "data": {
      "text/plain": [
       "array([[11834,   601],\n",
       "       [ 2736,  1110]], dtype=int64)"
      ]
     },
     "execution_count": 42,
     "metadata": {},
     "output_type": "execute_result"
    }
   ],
   "source": [
    "metrics.confusion_matrix(Ytest,Ypred)"
   ]
  },
  {
   "cell_type": "markdown",
   "metadata": {},
   "source": [
    "#### ROC and AUC"
   ]
  },
  {
   "cell_type": "code",
   "execution_count": 43,
   "metadata": {},
   "outputs": [
    {
     "name": "stdout",
     "output_type": "stream",
     "text": [
      "ROC :  (array([0.        , 0.        , 0.        , ..., 0.99879373, 0.99879373,\n",
      "       1.        ]), array([2.60010400e-04, 2.60010400e-03, 4.16016641e-03, ...,\n",
      "       9.99739990e-01, 1.00000000e+00, 1.00000000e+00]), array([1.        , 1.        , 1.        , ..., 0.04542068, 0.04382965,\n",
      "       0.00777915]))\n",
      "AUC :  0.701520135594326\n"
     ]
    }
   ],
   "source": [
    "print(\"ROC : \",(metrics.roc_curve(Ytest,Ypred_proba[:,1])))\n",
    "print(\"AUC : \",(metrics.roc_auc_score(Ytest,Ypred_proba[:,1])))"
   ]
  },
  {
   "cell_type": "code",
   "execution_count": 44,
   "metadata": {},
   "outputs": [],
   "source": [
    "model_accuracy['AUC_Logistic_Regression'] = metrics.roc_auc_score(Ytest,Ypred_proba[:,1])"
   ]
  },
  {
   "cell_type": "code",
   "execution_count": 45,
   "metadata": {},
   "outputs": [
    {
     "name": "stdout",
     "output_type": "stream",
     "text": [
      "             precision    recall  f1-score   support\n",
      "\n",
      "          0       0.81      0.95      0.88     12435\n",
      "          1       0.65      0.29      0.40      3846\n",
      "\n",
      "avg / total       0.77      0.80      0.76     16281\n",
      "\n"
     ]
    }
   ],
   "source": [
    "from sklearn.metrics import classification_report\n",
    "print(classification_report(Ytest,Ypred))"
   ]
  },
  {
   "cell_type": "markdown",
   "metadata": {},
   "source": [
    "#### Applying 10 Fold Cross Validation to Logistic Regression Model"
   ]
  },
  {
   "cell_type": "code",
   "execution_count": 46,
   "metadata": {},
   "outputs": [
    {
     "name": "stdout",
     "output_type": "stream",
     "text": [
      "Accuracy per fold: \n",
      "Cross Validation score:  [0.78833163 0.80061412 0.80368475 0.79119754 0.78710338 0.78951679\n",
      " 0.79750205 0.80483309 0.78353471 0.79234077]\n",
      "Average accuracy:  0.7938658840531956\n"
     ]
    }
   ],
   "source": [
    "from sklearn.model_selection import cross_val_score\n",
    "\n",
    "scores = cross_val_score(estimator= LogisticRegression(),     # Model to test\n",
    "                X= Features,  \n",
    "                y = Labels,      # Target variable\n",
    "                scoring = \"accuracy\",               # Scoring metric    \n",
    "                cv=10)                              # Cross validation folds\n",
    "\n",
    "print(\"Accuracy per fold: \")\n",
    "print(\"Cross Validation score: \", scores)\n",
    "print(\"Average accuracy: \", scores.mean())\n",
    "model_accuracy['10 CV Score-Logistic Regression'] = scores.mean()"
   ]
  },
  {
   "cell_type": "markdown",
   "metadata": {},
   "source": [
    "# Feature Selection for Logistic Regression Model"
   ]
  },
  {
   "cell_type": "markdown",
   "metadata": {},
   "source": [
    "The goal of recursive feature elimination (RFE) is to select features by recursively considering smaller and smaller sets of features. First, the estimator is trained on the initial set of features and the importance of each feature is obtained either through a coef_ attribute or through a feature_importances_ attribute. Then, the least important features are pruned from current set of features. That procedure is recursively repeated on the pruned set until the desired number of features to select is eventually reached."
   ]
  },
  {
   "cell_type": "code",
   "execution_count": 47,
   "metadata": {},
   "outputs": [
    {
     "data": {
      "text/plain": [
       "RFE(estimator=LogisticRegression(C=1.0, class_weight=None, dual=False, fit_intercept=True,\n",
       "          intercept_scaling=1, max_iter=100, multi_class='ovr', n_jobs=1,\n",
       "          penalty='l2', random_state=None, solver='liblinear', tol=0.0001,\n",
       "          verbose=0, warm_start=False),\n",
       "  n_features_to_select=None, step=1, verbose=0)"
      ]
     },
     "execution_count": 47,
     "metadata": {},
     "output_type": "execute_result"
    }
   ],
   "source": [
    "from sklearn.feature_selection import RFE, RFECV\n",
    "selector =  RFE(estimator=LogisticRegression(), step=1)\n",
    "selector.fit(Features,Labels)"
   ]
  },
  {
   "cell_type": "markdown",
   "metadata": {},
   "source": [
    "#### Note \n",
    "ranking_ : array of shape [n_features]\n",
    "\n",
    "The feature ranking, such that ranking_[i] corresponds to the ranking position of the i-th feature. Selected (i.e., estimated best) features are assigned rank 1."
   ]
  },
  {
   "cell_type": "code",
   "execution_count": 48,
   "metadata": {},
   "outputs": [
    {
     "data": {
      "text/plain": [
       "[1, 2, 8, 3, 1, 1, 4, 1, 1, 1, 7, 6, 1, 5]"
      ]
     },
     "execution_count": 48,
     "metadata": {},
     "output_type": "execute_result"
    }
   ],
   "source": [
    "ranks = selector.ranking_.tolist()\n",
    "ranks"
   ]
  },
  {
   "cell_type": "code",
   "execution_count": 49,
   "metadata": {},
   "outputs": [
    {
     "data": {
      "text/html": [
       "<div>\n",
       "<style scoped>\n",
       "    .dataframe tbody tr th:only-of-type {\n",
       "        vertical-align: middle;\n",
       "    }\n",
       "\n",
       "    .dataframe tbody tr th {\n",
       "        vertical-align: top;\n",
       "    }\n",
       "\n",
       "    .dataframe thead th {\n",
       "        text-align: right;\n",
       "    }\n",
       "</style>\n",
       "<table border=\"1\" class=\"dataframe\">\n",
       "  <thead>\n",
       "    <tr style=\"text-align: right;\">\n",
       "      <th></th>\n",
       "      <th>Feature</th>\n",
       "      <th>Rank</th>\n",
       "    </tr>\n",
       "  </thead>\n",
       "  <tbody>\n",
       "    <tr>\n",
       "      <th>0</th>\n",
       "      <td>age</td>\n",
       "      <td>1</td>\n",
       "    </tr>\n",
       "    <tr>\n",
       "      <th>1</th>\n",
       "      <td>workclass</td>\n",
       "      <td>2</td>\n",
       "    </tr>\n",
       "    <tr>\n",
       "      <th>2</th>\n",
       "      <td>fnlwgt</td>\n",
       "      <td>8</td>\n",
       "    </tr>\n",
       "    <tr>\n",
       "      <th>3</th>\n",
       "      <td>education</td>\n",
       "      <td>3</td>\n",
       "    </tr>\n",
       "    <tr>\n",
       "      <th>4</th>\n",
       "      <td>education_num</td>\n",
       "      <td>1</td>\n",
       "    </tr>\n",
       "    <tr>\n",
       "      <th>5</th>\n",
       "      <td>marital_status</td>\n",
       "      <td>1</td>\n",
       "    </tr>\n",
       "    <tr>\n",
       "      <th>6</th>\n",
       "      <td>occupation</td>\n",
       "      <td>4</td>\n",
       "    </tr>\n",
       "    <tr>\n",
       "      <th>7</th>\n",
       "      <td>relationship</td>\n",
       "      <td>1</td>\n",
       "    </tr>\n",
       "    <tr>\n",
       "      <th>8</th>\n",
       "      <td>race</td>\n",
       "      <td>1</td>\n",
       "    </tr>\n",
       "    <tr>\n",
       "      <th>9</th>\n",
       "      <td>sex</td>\n",
       "      <td>1</td>\n",
       "    </tr>\n",
       "    <tr>\n",
       "      <th>10</th>\n",
       "      <td>capital_gain</td>\n",
       "      <td>7</td>\n",
       "    </tr>\n",
       "    <tr>\n",
       "      <th>11</th>\n",
       "      <td>capital_loss</td>\n",
       "      <td>6</td>\n",
       "    </tr>\n",
       "    <tr>\n",
       "      <th>12</th>\n",
       "      <td>hours_per_week</td>\n",
       "      <td>1</td>\n",
       "    </tr>\n",
       "    <tr>\n",
       "      <th>13</th>\n",
       "      <td>native_country</td>\n",
       "      <td>5</td>\n",
       "    </tr>\n",
       "  </tbody>\n",
       "</table>\n",
       "</div>"
      ],
      "text/plain": [
       "           Feature  Rank\n",
       "0              age     1\n",
       "1        workclass     2\n",
       "2           fnlwgt     8\n",
       "3        education     3\n",
       "4    education_num     1\n",
       "5   marital_status     1\n",
       "6       occupation     4\n",
       "7     relationship     1\n",
       "8             race     1\n",
       "9              sex     1\n",
       "10    capital_gain     7\n",
       "11    capital_loss     6\n",
       "12  hours_per_week     1\n",
       "13  native_country     5"
      ]
     },
     "execution_count": 49,
     "metadata": {},
     "output_type": "execute_result"
    }
   ],
   "source": [
    "df_rank = pd.DataFrame({'Feature':Features.columns,'Rank':ranks})\n",
    "df_rank"
   ]
  },
  {
   "cell_type": "code",
   "execution_count": 50,
   "metadata": {},
   "outputs": [
    {
     "name": "stdout",
     "output_type": "stream",
     "text": [
      "The important Features in the sample data are as follows :-\n",
      " ['age' 'education_num' 'marital_status' 'relationship' 'race' 'sex'\n",
      " 'hours_per_week']\n"
     ]
    }
   ],
   "source": [
    "#most imporatnt features\n",
    "\n",
    "imp= df_rank.Feature[df_rank.Rank == 1]\n",
    "print(\"The important Features in the sample data are as follows :-\\n\",imp.values)"
   ]
  },
  {
   "cell_type": "markdown",
   "metadata": {},
   "source": [
    "#### Feature ranking with recursive feature elimination and cross-validated selection of the best number of features."
   ]
  },
  {
   "cell_type": "code",
   "execution_count": 51,
   "metadata": {},
   "outputs": [
    {
     "data": {
      "text/html": [
       "<div>\n",
       "<style scoped>\n",
       "    .dataframe tbody tr th:only-of-type {\n",
       "        vertical-align: middle;\n",
       "    }\n",
       "\n",
       "    .dataframe tbody tr th {\n",
       "        vertical-align: top;\n",
       "    }\n",
       "\n",
       "    .dataframe thead th {\n",
       "        text-align: right;\n",
       "    }\n",
       "</style>\n",
       "<table border=\"1\" class=\"dataframe\">\n",
       "  <thead>\n",
       "    <tr style=\"text-align: right;\">\n",
       "      <th></th>\n",
       "      <th>Feature</th>\n",
       "      <th>Rank</th>\n",
       "    </tr>\n",
       "  </thead>\n",
       "  <tbody>\n",
       "    <tr>\n",
       "      <th>0</th>\n",
       "      <td>age</td>\n",
       "      <td>1</td>\n",
       "    </tr>\n",
       "    <tr>\n",
       "      <th>1</th>\n",
       "      <td>workclass</td>\n",
       "      <td>1</td>\n",
       "    </tr>\n",
       "    <tr>\n",
       "      <th>2</th>\n",
       "      <td>fnlwgt</td>\n",
       "      <td>2</td>\n",
       "    </tr>\n",
       "    <tr>\n",
       "      <th>3</th>\n",
       "      <td>education</td>\n",
       "      <td>1</td>\n",
       "    </tr>\n",
       "    <tr>\n",
       "      <th>4</th>\n",
       "      <td>education_num</td>\n",
       "      <td>1</td>\n",
       "    </tr>\n",
       "    <tr>\n",
       "      <th>5</th>\n",
       "      <td>marital_status</td>\n",
       "      <td>1</td>\n",
       "    </tr>\n",
       "    <tr>\n",
       "      <th>6</th>\n",
       "      <td>occupation</td>\n",
       "      <td>1</td>\n",
       "    </tr>\n",
       "    <tr>\n",
       "      <th>7</th>\n",
       "      <td>relationship</td>\n",
       "      <td>1</td>\n",
       "    </tr>\n",
       "    <tr>\n",
       "      <th>8</th>\n",
       "      <td>race</td>\n",
       "      <td>1</td>\n",
       "    </tr>\n",
       "    <tr>\n",
       "      <th>9</th>\n",
       "      <td>sex</td>\n",
       "      <td>1</td>\n",
       "    </tr>\n",
       "    <tr>\n",
       "      <th>10</th>\n",
       "      <td>capital_gain</td>\n",
       "      <td>1</td>\n",
       "    </tr>\n",
       "    <tr>\n",
       "      <th>11</th>\n",
       "      <td>capital_loss</td>\n",
       "      <td>1</td>\n",
       "    </tr>\n",
       "    <tr>\n",
       "      <th>12</th>\n",
       "      <td>hours_per_week</td>\n",
       "      <td>1</td>\n",
       "    </tr>\n",
       "    <tr>\n",
       "      <th>13</th>\n",
       "      <td>native_country</td>\n",
       "      <td>1</td>\n",
       "    </tr>\n",
       "  </tbody>\n",
       "</table>\n",
       "</div>"
      ],
      "text/plain": [
       "           Feature  Rank\n",
       "0              age     1\n",
       "1        workclass     1\n",
       "2           fnlwgt     2\n",
       "3        education     1\n",
       "4    education_num     1\n",
       "5   marital_status     1\n",
       "6       occupation     1\n",
       "7     relationship     1\n",
       "8             race     1\n",
       "9              sex     1\n",
       "10    capital_gain     1\n",
       "11    capital_loss     1\n",
       "12  hours_per_week     1\n",
       "13  native_country     1"
      ]
     },
     "execution_count": 51,
     "metadata": {},
     "output_type": "execute_result"
    }
   ],
   "source": [
    "selector =  RFECV(estimator=LogisticRegression(), step=1,cv=10)\n",
    "selector.fit(Features,Labels)\n",
    "ranks = selector.ranking_.tolist()\n",
    "df_rank_cv = pd.DataFrame({'Feature':Features.columns,'Rank':ranks})\n",
    "df_rank_cv"
   ]
  },
  {
   "cell_type": "code",
   "execution_count": 52,
   "metadata": {},
   "outputs": [
    {
     "name": "stdout",
     "output_type": "stream",
     "text": [
      "The important Features in the sample data after REFCV are as follows :-\n",
      " ['age' 'workclass' 'education' 'education_num' 'marital_status'\n",
      " 'occupation' 'relationship' 'race' 'sex' 'capital_gain' 'capital_loss'\n",
      " 'hours_per_week' 'native_country']\n"
     ]
    }
   ],
   "source": [
    "impcv= df_rank_cv.Feature[df_rank_cv.Rank == 1]\n",
    "print(\"The important Features in the sample data after REFCV are as follows :-\\n\",impcv.values)"
   ]
  },
  {
   "cell_type": "markdown",
   "metadata": {},
   "source": [
    "# Applying Decison Tree Classifier Model to the sample Data"
   ]
  },
  {
   "cell_type": "code",
   "execution_count": 54,
   "metadata": {},
   "outputs": [
    {
     "name": "stdout",
     "output_type": "stream",
     "text": [
      "accuracy of Decision Tree Classifier : 0.8100853755911799\n"
     ]
    }
   ],
   "source": [
    "#build the model\n",
    "DT = DecisionTreeClassifier(random_state=0)\n",
    "#train the model\n",
    "DT.fit(X,Y)\n",
    "#Model parameters study\n",
    "Ypred = DT.predict(Xtest)\n",
    "Ypred_proba = DT.predict_proba(Xtest)\n",
    "# generate evaluation metrics\n",
    "print(\"accuracy of Decision Tree Classifier :\",metrics.accuracy_score(Ytest, Ypred))\n",
    "#model_accuracy['Decision Tree Classifier'] = metrics.accuracy_score(Ytest, Ypred)"
   ]
  },
  {
   "cell_type": "markdown",
   "metadata": {},
   "source": [
    "#### Decision Tree Classifier Model with max_depth in a range of 1 to 20"
   ]
  },
  {
   "cell_type": "code",
   "execution_count": 55,
   "metadata": {},
   "outputs": [
    {
     "name": "stdout",
     "output_type": "stream",
     "text": [
      "accuracy of Decision Tree Classifier for max_depth  1  :  0.7637737239727289\n",
      "accuracy of Decision Tree Classifier for max_depth  2  :  0.8267919660954487\n",
      "accuracy of Decision Tree Classifier for max_depth  3  :  0.839199066396413\n",
      "accuracy of Decision Tree Classifier for max_depth  4  :  0.8442356120631411\n",
      "accuracy of Decision Tree Classifier for max_depth  5  :  0.8514219028315214\n",
      "accuracy of Decision Tree Classifier for max_depth  6  :  0.8546772311283091\n",
      "accuracy of Decision Tree Classifier for max_depth  7  :  0.8563970272096308\n",
      "accuracy of Decision Tree Classifier for max_depth  8  :  0.8538787543762668\n",
      "accuracy of Decision Tree Classifier for max_depth  9  :  0.8513604815429028\n",
      "accuracy of Decision Tree Classifier for max_depth  10  :  0.8551071801486395\n",
      "accuracy of Decision Tree Classifier for max_depth  11  :  0.8522203795835637\n",
      "accuracy of Decision Tree Classifier for max_depth  12  :  0.8519132731404705\n",
      "accuracy of Decision Tree Classifier for max_depth  13  :  0.8495792641729624\n",
      "accuracy of Decision Tree Classifier for max_depth  14  :  0.843928505620048\n",
      "accuracy of Decision Tree Classifier for max_depth  15  :  0.8399975431484552\n",
      "accuracy of Decision Tree Classifier for max_depth  16  :  0.8395675941281248\n",
      "accuracy of Decision Tree Classifier for max_depth  17  :  0.8334868865548799\n",
      "accuracy of Decision Tree Classifier for max_depth  18  :  0.8308457711442786\n",
      "accuracy of Decision Tree Classifier for max_depth  19  :  0.8276518641361096\n",
      "accuracy of Decision Tree Classifier for max_depth  20  :  0.8264234383637369\n"
     ]
    }
   ],
   "source": [
    "for depth in range(20):\n",
    "    #build the model\n",
    "    depth = depth + 1\n",
    "    DT = DecisionTreeClassifier(max_depth=depth,random_state=0)\n",
    "    #train the model\n",
    "    DT.fit(X,Y)\n",
    "    #Model parameters study\n",
    "    Ypred = DT.predict(Xtest)\n",
    "    Ypred_proba = DT.predict_proba(Xtest)\n",
    "    # generate evaluation metrics\n",
    "    print(\"accuracy of Decision Tree Classifier for max_depth \", depth,\" : \",metrics.accuracy_score(Ytest, Ypred))\n",
    "    \n",
    "    #model_accuracy[auc] = metrics.roc_auc_score(Ytest,Ypred_proba[:,1])"
   ]
  },
  {
   "cell_type": "markdown",
   "metadata": {},
   "source": [
    "#### Note \n",
    "The model gives a better accuracy with depth = 10"
   ]
  },
  {
   "cell_type": "code",
   "execution_count": 56,
   "metadata": {},
   "outputs": [
    {
     "name": "stdout",
     "output_type": "stream",
     "text": [
      "accuracy of Decision Tree Classifier : 0.8551071801486395\n"
     ]
    }
   ],
   "source": [
    "#since the model has best accuracy for max_depth 10 so retraining the model with max_depth as 10\n",
    "#build the model\n",
    "DT = DecisionTreeClassifier(max_depth=10,random_state=0)\n",
    "#train the model\n",
    "DT.fit(X,Y)\n",
    "#Model parameters study\n",
    "Ypred = DT.predict(Xtest)\n",
    "Ypred_proba = DT.predict_proba(Xtest)\n",
    "# generate evaluation metrics\n",
    "print(\"accuracy of Decision Tree Classifier :\",metrics.accuracy_score(Ytest, Ypred))\n",
    "model_accuracy['Accuracy Score of Decision Tree Classifier Model'] = metrics.accuracy_score(Ytest, Ypred)\n",
    "model_accuracy['AUC of Decision Tree Model Classifier - depth 10'] = metrics.roc_auc_score(Ytest,Ypred_proba[:,1])"
   ]
  },
  {
   "cell_type": "markdown",
   "metadata": {},
   "source": [
    "# Evaluation of the Decision Tree Model trained with max_depth as 10"
   ]
  },
  {
   "cell_type": "markdown",
   "metadata": {},
   "source": [
    "#### Confusion Matrix"
   ]
  },
  {
   "cell_type": "code",
   "execution_count": 57,
   "metadata": {},
   "outputs": [
    {
     "data": {
      "text/plain": [
       "array([[11725,   710],\n",
       "       [ 1649,  2197]], dtype=int64)"
      ]
     },
     "execution_count": 57,
     "metadata": {},
     "output_type": "execute_result"
    }
   ],
   "source": [
    "metrics.confusion_matrix(Ytest,Ypred)"
   ]
  },
  {
   "cell_type": "markdown",
   "metadata": {},
   "source": [
    "#### ROC and AUC"
   ]
  },
  {
   "cell_type": "code",
   "execution_count": 58,
   "metadata": {},
   "outputs": [
    {
     "name": "stdout",
     "output_type": "stream",
     "text": [
      "ROC :  (array([0.        , 0.00514676, 0.00522718, 0.00522718, 0.0053076 ,\n",
      "       0.0053076 , 0.00627262, 0.01318858, 0.01391234, 0.01439485,\n",
      "       0.01439485, 0.01447527, 0.03176518, 0.03313229, 0.03409731,\n",
      "       0.03433856, 0.03819863, 0.03916365, 0.04045034, 0.04093285,\n",
      "       0.04189787, 0.04358665, 0.04382791, 0.05653398, 0.0570969 ,\n",
      "       0.05717732, 0.05942903, 0.06425412, 0.06481705, 0.06521914,\n",
      "       0.06554081, 0.06883796, 0.06907921, 0.06915963, 0.08781665,\n",
      "       0.09183756, 0.10985123, 0.11676719, 0.11700844, 0.11966224,\n",
      "       0.12448733, 0.12971452, 0.13003619, 0.13196622, 0.16574186,\n",
      "       0.16911942, 0.16976277, 0.17466828, 0.18769602, 0.18809811,\n",
      "       0.18890229, 0.19131484, 0.19437073, 0.1946924 , 0.19879373,\n",
      "       0.20514676, 0.20627262, 0.20675513, 0.21182147, 0.21310816,\n",
      "       0.22525131, 0.23852031, 0.25814234, 0.26320869, 0.26353036,\n",
      "       0.26586248, 0.27117008, 0.28242863, 0.28258947, 0.28427825,\n",
      "       0.28854041, 0.29223965, 0.29288299, 0.29489345, 0.29682348,\n",
      "       0.29762766, 0.29794934, 0.30824286, 0.30944914, 0.32086852,\n",
      "       0.32127061, 0.34981906, 0.35078408, 0.3526337 , 0.3575392 ,\n",
      "       0.37466828, 0.40570969, 0.40820265, 0.40956976, 0.42267793,\n",
      "       0.42694009, 0.45749899, 0.48516285, 0.49995979, 0.50824286,\n",
      "       0.50888621, 0.51612384, 0.54161641, 0.54282268, 0.59043024,\n",
      "       0.59308404, 0.59654202, 0.63088058, 0.64278247, 0.65186972,\n",
      "       0.69240048, 0.70422195, 0.92939284, 1.        ]), array([0.        , 0.24622985, 0.25819033, 0.25923037, 0.2600104 ,\n",
      "       0.26027041, 0.27015081, 0.34165367, 0.34685387, 0.34789392,\n",
      "       0.34841394, 0.34867395, 0.47815913, 0.48621945, 0.48699948,\n",
      "       0.4875195 , 0.50962038, 0.51482059, 0.52054082, 0.52080083,\n",
      "       0.52210088, 0.52522101, 0.52548102, 0.57020281, 0.57124285,\n",
      "       0.57150286, 0.57696308, 0.58606344, 0.58632345, 0.58684347,\n",
      "       0.58788352, 0.60036401, 0.60088404, 0.60140406, 0.65912637,\n",
      "       0.66562663, 0.7025481 , 0.71216849, 0.7124285 , 0.71788872,\n",
      "       0.72464899, 0.73608944, 0.7373895 , 0.73842954, 0.79355174,\n",
      "       0.79719189, 0.7974519 , 0.80213209, 0.81487259, 0.81513261,\n",
      "       0.81591264, 0.81877275, 0.82111284, 0.82111284, 0.82787311,\n",
      "       0.83853354, 0.83983359, 0.84061362, 0.84321373, 0.84555382,\n",
      "       0.85309412, 0.86219449, 0.88091524, 0.88481539, 0.8850754 ,\n",
      "       0.88611544, 0.89235569, 0.89651586, 0.89703588, 0.89859594,\n",
      "       0.90301612, 0.9050962 , 0.9050962 , 0.90587624, 0.90639626,\n",
      "       0.90665627, 0.90665627, 0.91471659, 0.91705668, 0.92199688,\n",
      "       0.92199688, 0.93187728, 0.93265731, 0.93421737, 0.93603744,\n",
      "       0.94045762, 0.94591784, 0.94643786, 0.9474779 , 0.95137806,\n",
      "       0.9524181 , 0.95527821, 0.95839834, 0.96073843, 0.9625585 ,\n",
      "       0.96307852, 0.96567863, 0.96723869, 0.96723869, 0.9724389 ,\n",
      "       0.97321893, 0.97399896, 0.97451898, 0.97581903, 0.97763911,\n",
      "       0.97893916, 0.97893916, 0.98101924, 1.        ]), array([2.00000000e+00, 1.00000000e+00, 9.48979592e-01, 9.33333333e-01,\n",
      "       9.00000000e-01, 8.33333333e-01, 8.02083333e-01, 7.93478261e-01,\n",
      "       7.83783784e-01, 7.69230769e-01, 7.50000000e-01, 7.14285714e-01,\n",
      "       7.04975473e-01, 6.97368421e-01, 6.96969697e-01, 6.66666667e-01,\n",
      "       6.56250000e-01, 6.52777778e-01, 6.50000000e-01, 6.25000000e-01,\n",
      "       6.06060606e-01, 5.97222222e-01, 5.83333333e-01, 5.62211982e-01,\n",
      "       5.45454545e-01, 5.00000000e-01, 4.86725664e-01, 4.84375000e-01,\n",
      "       4.76190476e-01, 4.73684211e-01, 4.68750000e-01, 4.64285714e-01,\n",
      "       4.61538462e-01, 4.54545455e-01, 4.53886010e-01, 4.52702703e-01,\n",
      "       4.39716312e-01, 4.19475655e-01, 4.00000000e-01, 3.97435897e-01,\n",
      "       3.93939394e-01, 3.48484848e-01, 3.46153846e-01, 3.33333333e-01,\n",
      "       3.24180015e-01, 3.13043478e-01, 2.85714286e-01, 2.61306533e-01,\n",
      "       2.52688172e-01, 2.50000000e-01, 2.41379310e-01, 2.25806452e-01,\n",
      "       2.24719101e-01, 2.22222222e-01, 2.20125786e-01, 2.12669683e-01,\n",
      "       2.11538462e-01, 2.06896552e-01, 2.04225352e-01, 2.00000000e-01,\n",
      "       1.76136364e-01, 1.75531915e-01, 1.71568627e-01, 1.69696970e-01,\n",
      "       1.66666667e-01, 1.61764706e-01, 1.57608696e-01, 1.51057402e-01,\n",
      "       1.42857143e-01, 1.40000000e-01, 1.38461538e-01, 1.35135135e-01,\n",
      "       1.30434783e-01, 1.29870130e-01, 1.25000000e-01, 1.20000000e-01,\n",
      "       1.11111111e-01, 1.08585859e-01, 1.05263158e-01, 1.00000000e-01,\n",
      "       9.09090909e-02, 8.90957447e-02, 8.69565217e-02, 8.51063830e-02,\n",
      "       8.49673203e-02, 7.44186047e-02, 5.92417062e-02, 5.79710145e-02,\n",
      "       4.54545455e-02, 4.43786982e-02, 3.88349515e-02, 3.76028202e-02,\n",
      "       3.58255452e-02, 3.26086957e-02, 3.22580645e-02, 3.12500000e-02,\n",
      "       2.94117647e-02, 2.42326333e-02, 2.27272727e-02, 1.71073095e-02,\n",
      "       1.66666667e-02, 1.04166667e-02, 9.15331808e-03, 8.95522388e-03,\n",
      "       8.81057269e-03, 4.17972832e-03, 3.26797386e-03, 1.45932142e-03,\n",
      "       0.00000000e+00]))\n",
      "AUC :  0.8923870481156199\n"
     ]
    }
   ],
   "source": [
    "print(\"ROC : \",(metrics.roc_curve(Ytest,Ypred_proba[:,1])))\n",
    "print(\"AUC : \",(metrics.roc_auc_score(Ytest,Ypred_proba[:,1])))"
   ]
  },
  {
   "cell_type": "markdown",
   "metadata": {},
   "source": [
    "# Applying 10 Fold cross validation to DEcision Tree Classifier Model"
   ]
  },
  {
   "cell_type": "code",
   "execution_count": 59,
   "metadata": {},
   "outputs": [
    {
     "name": "stdout",
     "output_type": "stream",
     "text": [
      "Accuracy per fold: \n",
      "Cross Validation score:  [0.81269191 0.80818833 0.81494371 0.82313204 0.81842375 0.82432432\n",
      " 0.82186732 0.82080688 0.80810977 0.7995085 ]\n",
      "Average accuracy:  0.8151996528545167\n"
     ]
    }
   ],
   "source": [
    "from sklearn.model_selection import cross_val_score\n",
    "\n",
    "scores = cross_val_score(estimator= DecisionTreeClassifier(random_state=0),     # Model to test\n",
    "                X= Features,  \n",
    "                y = Labels,      # Target variable\n",
    "                scoring = \"accuracy\",               # Scoring metric    \n",
    "                cv=10)                              # Cross validation folds\n",
    "\n",
    "print(\"Accuracy per fold: \")\n",
    "print(\"Cross Validation score: \", scores)\n",
    "print(\"Average accuracy: \", scores.mean())\n"
   ]
  },
  {
   "cell_type": "code",
   "execution_count": 60,
   "metadata": {},
   "outputs": [
    {
     "name": "stdout",
     "output_type": "stream",
     "text": [
      "Average accuracy for max_depth 1  :  0.7607182417754828\n",
      "Average accuracy for max_depth 2  :  0.8264198722862028\n",
      "Average accuracy for max_depth 3  :  0.8396460861506458\n",
      "Average accuracy for max_depth 4  :  0.8449488902533504\n",
      "Average accuracy for max_depth 5  :  0.8517463667005265\n",
      "Average accuracy for max_depth 6  :  0.8538962648864054\n",
      "Average accuracy for max_depth 7  :  0.8565167951035575\n",
      "Average accuracy for max_depth 8  :  0.8562710319610096\n",
      "Average accuracy for max_depth 9  :  0.8552474108536909\n",
      "Average accuracy for max_depth 10  :  0.8553699381987601\n",
      "Average accuracy for max_depth 11  :  0.8555133304251891\n",
      "Average accuracy for max_depth 12  :  0.8545101256449215\n",
      "Average accuracy for max_depth 13  :  0.8532613044590995\n",
      "Average accuracy for max_depth 14  :  0.8502311145006333\n",
      "Average accuracy for max_depth 15  :  0.8470985326999173\n",
      "Average accuracy for max_depth 16  :  0.8441295791569683\n",
      "Average accuracy for max_depth 17  :  0.840485134399712\n",
      "Average accuracy for max_depth 18  :  0.8369026051774044\n",
      "Average accuracy for max_depth 19  :  0.8347322613091788\n",
      "Average accuracy for max_depth 20  :  0.8322957547455634\n"
     ]
    }
   ],
   "source": [
    "for depth in range(20):\n",
    "    depth = depth + 1\n",
    "    scores = cross_val_score(estimator= DecisionTreeClassifier(max_depth=depth,random_state=0),     # Model to test\n",
    "                X= Features,  \n",
    "                y = Labels,      # Target variable\n",
    "                scoring = \"accuracy\",               # Scoring metric    \n",
    "                cv=10)                              # Cross validation folds\n",
    "\n",
    "    \n",
    "    print(\"Average accuracy for max_depth\",depth,\" : \", scores.mean())\n",
    "    "
   ]
  },
  {
   "cell_type": "markdown",
   "metadata": {},
   "source": [
    "#### Note\n",
    "The cross validation score for Decision Tree Classifier is the most optimum for max_depth =12"
   ]
  },
  {
   "cell_type": "code",
   "execution_count": 61,
   "metadata": {},
   "outputs": [
    {
     "name": "stdout",
     "output_type": "stream",
     "text": [
      "Accuracy per fold: \n",
      "Cross Validation score:  [0.85097236 0.85813715 0.8493347  0.8569089  0.86550665 0.85933661\n",
      " 0.8495086  0.85521196 0.84968257 0.85050174]\n",
      "Average accuracy:  0.8545101256449215\n"
     ]
    }
   ],
   "source": [
    "scores = cross_val_score(estimator= DecisionTreeClassifier(max_depth=12,random_state=0),     # Model to test\n",
    "                X= Features,  \n",
    "                y = Labels,      # Target variable\n",
    "                scoring = \"accuracy\",               # Scoring metric    \n",
    "                cv=10)                              # Cross validation folds\n",
    "\n",
    "print(\"Accuracy per fold: \")\n",
    "print(\"Cross Validation score: \", scores)\n",
    "print(\"Average accuracy: \", scores.mean())\n",
    "model_accuracy['10 CV Score-Decision Tree Classifier, max depth  12'] = scores.mean()"
   ]
  },
  {
   "cell_type": "markdown",
   "metadata": {},
   "source": [
    "# Feature Selection using REFCV for Decision Tree Classifier"
   ]
  },
  {
   "cell_type": "code",
   "execution_count": 62,
   "metadata": {},
   "outputs": [
    {
     "data": {
      "text/html": [
       "<div>\n",
       "<style scoped>\n",
       "    .dataframe tbody tr th:only-of-type {\n",
       "        vertical-align: middle;\n",
       "    }\n",
       "\n",
       "    .dataframe tbody tr th {\n",
       "        vertical-align: top;\n",
       "    }\n",
       "\n",
       "    .dataframe thead th {\n",
       "        text-align: right;\n",
       "    }\n",
       "</style>\n",
       "<table border=\"1\" class=\"dataframe\">\n",
       "  <thead>\n",
       "    <tr style=\"text-align: right;\">\n",
       "      <th></th>\n",
       "      <th>Feature</th>\n",
       "      <th>Rank</th>\n",
       "    </tr>\n",
       "  </thead>\n",
       "  <tbody>\n",
       "    <tr>\n",
       "      <th>0</th>\n",
       "      <td>age</td>\n",
       "      <td>2</td>\n",
       "    </tr>\n",
       "    <tr>\n",
       "      <th>1</th>\n",
       "      <td>workclass</td>\n",
       "      <td>6</td>\n",
       "    </tr>\n",
       "    <tr>\n",
       "      <th>2</th>\n",
       "      <td>fnlwgt</td>\n",
       "      <td>4</td>\n",
       "    </tr>\n",
       "    <tr>\n",
       "      <th>3</th>\n",
       "      <td>education</td>\n",
       "      <td>8</td>\n",
       "    </tr>\n",
       "    <tr>\n",
       "      <th>4</th>\n",
       "      <td>education_num</td>\n",
       "      <td>1</td>\n",
       "    </tr>\n",
       "    <tr>\n",
       "      <th>5</th>\n",
       "      <td>marital_status</td>\n",
       "      <td>11</td>\n",
       "    </tr>\n",
       "    <tr>\n",
       "      <th>6</th>\n",
       "      <td>occupation</td>\n",
       "      <td>5</td>\n",
       "    </tr>\n",
       "    <tr>\n",
       "      <th>7</th>\n",
       "      <td>relationship</td>\n",
       "      <td>1</td>\n",
       "    </tr>\n",
       "    <tr>\n",
       "      <th>8</th>\n",
       "      <td>race</td>\n",
       "      <td>9</td>\n",
       "    </tr>\n",
       "    <tr>\n",
       "      <th>9</th>\n",
       "      <td>sex</td>\n",
       "      <td>10</td>\n",
       "    </tr>\n",
       "    <tr>\n",
       "      <th>10</th>\n",
       "      <td>capital_gain</td>\n",
       "      <td>1</td>\n",
       "    </tr>\n",
       "    <tr>\n",
       "      <th>11</th>\n",
       "      <td>capital_loss</td>\n",
       "      <td>1</td>\n",
       "    </tr>\n",
       "    <tr>\n",
       "      <th>12</th>\n",
       "      <td>hours_per_week</td>\n",
       "      <td>3</td>\n",
       "    </tr>\n",
       "    <tr>\n",
       "      <th>13</th>\n",
       "      <td>native_country</td>\n",
       "      <td>7</td>\n",
       "    </tr>\n",
       "  </tbody>\n",
       "</table>\n",
       "</div>"
      ],
      "text/plain": [
       "           Feature  Rank\n",
       "0              age     2\n",
       "1        workclass     6\n",
       "2           fnlwgt     4\n",
       "3        education     8\n",
       "4    education_num     1\n",
       "5   marital_status    11\n",
       "6       occupation     5\n",
       "7     relationship     1\n",
       "8             race     9\n",
       "9              sex    10\n",
       "10    capital_gain     1\n",
       "11    capital_loss     1\n",
       "12  hours_per_week     3\n",
       "13  native_country     7"
      ]
     },
     "execution_count": 62,
     "metadata": {},
     "output_type": "execute_result"
    }
   ],
   "source": [
    "selector =  RFECV(estimator=DecisionTreeClassifier(max_depth=12,random_state=0), step=1,cv=10)\n",
    "selector.fit(Features,Labels)\n",
    "ranks = selector.ranking_.tolist()\n",
    "df_rank_cv = pd.DataFrame({'Feature':Features.columns,'Rank':ranks})\n",
    "df_rank_cv"
   ]
  },
  {
   "cell_type": "code",
   "execution_count": 63,
   "metadata": {},
   "outputs": [
    {
     "name": "stdout",
     "output_type": "stream",
     "text": [
      "The important Features in the sample data after REFCV are as follows :-\n",
      " ['education_num' 'relationship' 'capital_gain' 'capital_loss']\n"
     ]
    }
   ],
   "source": [
    "impcvDT= df_rank_cv.Feature[df_rank_cv.Rank == 1]\n",
    "print(\"The important Features in the sample data after REFCV are as follows :-\\n\",impcvDT.values)"
   ]
  },
  {
   "cell_type": "markdown",
   "metadata": {},
   "source": [
    "# Applying K- Nearest Neighbor Model to sample Data"
   ]
  },
  {
   "cell_type": "code",
   "execution_count": 64,
   "metadata": {},
   "outputs": [],
   "source": [
    "from sklearn.neighbors import KNeighborsClassifier"
   ]
  },
  {
   "cell_type": "code",
   "execution_count": 65,
   "metadata": {},
   "outputs": [
    {
     "name": "stdout",
     "output_type": "stream",
     "text": [
      "Accuracy is  72.8579325594251 % for K-Value: 1\n",
      "Error  is  27.142067440574905 % for K-Value: 1\n",
      "Accuracy is  78.39199066396412 % for K-Value: 2\n",
      "Error  is  21.608009336035877 % for K-Value: 2\n",
      "Accuracy is  75.94128124808059 % for K-Value: 3\n",
      "Error  is  24.058718751919415 % for K-Value: 3\n",
      "Accuracy is  79.08605122535471 % for K-Value: 4\n",
      "Error  is  20.91394877464529 % for K-Value: 4\n",
      "Accuracy is  77.61194029850746 % for K-Value: 5\n",
      "Error  is  22.388059701492537 % for K-Value: 5\n",
      "Accuracy is  79.26417296234874 % for K-Value: 6\n",
      "Error  is  20.735827037651262 % for K-Value: 6\n",
      "Accuracy is  78.45341195258277 % for K-Value: 7\n",
      "Error  is  21.54658804741723 % for K-Value: 7\n",
      "Accuracy is  79.52214237454702 % for K-Value: 8\n",
      "Error  is  20.477857625452984 % for K-Value: 8\n",
      "Accuracy is  78.96320864811743 % for K-Value: 9\n",
      "Error  is  21.03679135188257 % for K-Value: 9\n",
      "Accuracy is  79.83539094650206 % for K-Value: 10\n",
      "Error  is  20.16460905349794 % for K-Value: 10\n",
      "Accuracy is  79.5098581168233 % for K-Value: 11\n",
      "Error  is  20.490141883176705 % for K-Value: 11\n",
      "Accuracy is  79.97051778146306 % for K-Value: 12\n",
      "Error  is  20.02948221853694 % for K-Value: 12\n",
      "Accuracy is  79.71869049812665 % for K-Value: 13\n",
      "Error  is  20.281309501873352 % for K-Value: 13\n",
      "Accuracy is  80.05650758552915 % for K-Value: 14\n",
      "Error  is  19.943492414470853 % for K-Value: 14\n",
      "Accuracy is  79.85995946194952 % for K-Value: 15\n",
      "Error  is  20.140040538050485 % for K-Value: 15\n",
      "Accuracy is  80.19163442049015 % for K-Value: 16\n",
      "Error  is  19.808365579509854 % for K-Value: 16\n",
      "Accuracy is  80.08721822983847 % for K-Value: 17\n",
      "Error  is  19.91278177016153 % for K-Value: 17\n",
      "Accuracy is  80.17935016276641 % for K-Value: 18\n",
      "Error  is  19.82064983723359 % for K-Value: 18\n",
      "Accuracy is  80.197776549352 % for K-Value: 19\n",
      "Error  is  19.802223450648 % for K-Value: 19\n",
      "Accuracy is  80.30833486886554 % for K-Value: 20\n",
      "Error  is  19.691665131134457 % for K-Value: 20\n",
      "Accuracy is  80.2162029359376 % for K-Value: 21\n",
      "Error  is  19.783797064062398 % for K-Value: 21\n",
      "Accuracy is  80.24077145138506 % for K-Value: 22\n",
      "Error  is  19.759228548614942 % for K-Value: 22\n",
      "Accuracy is  80.24077145138506 % for K-Value: 23\n",
      "Error  is  19.759228548614942 % for K-Value: 23\n",
      "Accuracy is  80.30833486886554 % for K-Value: 24\n",
      "Error  is  19.691665131134457 % for K-Value: 24\n",
      "Accuracy is  80.2837663534181 % for K-Value: 25\n",
      "Error  is  19.716233646581898 % for K-Value: 25\n",
      "Accuracy is  80.197776549352 % for K-Value: 26\n",
      "Error  is  19.802223450648 % for K-Value: 26\n",
      "Accuracy is  80.2837663534181 % for K-Value: 27\n",
      "Error  is  19.716233646581898 % for K-Value: 27\n",
      "Accuracy is  80.22234506479946 % for K-Value: 28\n",
      "Error  is  19.777654935200545 % for K-Value: 28\n",
      "Accuracy is  80.30833486886554 % for K-Value: 29\n",
      "Error  is  19.691665131134457 % for K-Value: 29\n",
      "Accuracy is  80.20391867821387 % for K-Value: 30\n",
      "Error  is  19.796081321786133 % for K-Value: 30\n"
     ]
    }
   ],
   "source": [
    "k = []\n",
    "scores = []\n",
    "errors = []\n",
    "for K in range(30):\n",
    "    K_value = K+1\n",
    "    neigh = KNeighborsClassifier(n_neighbors = K_value, weights='uniform', algorithm='auto')\n",
    "    neigh.fit(X,Y) \n",
    "    y_pred = neigh.predict(Xtest)\n",
    "    print(\"Accuracy is \", metrics.accuracy_score(Ytest,y_pred)*100,\"% for K-Value:\",K_value)\n",
    "    print(\"Error  is \", 100 - metrics.accuracy_score(Ytest,y_pred)*100,\"% for K-Value:\",K_value)\n",
    "    k.append(K_value)\n",
    "    scores.append(metrics.accuracy_score(Ytest,y_pred)*100)\n",
    "    errors.append(1 - metrics.accuracy_score(Ytest,y_pred) )"
   ]
  },
  {
   "cell_type": "code",
   "execution_count": 66,
   "metadata": {},
   "outputs": [
    {
     "data": {
      "text/plain": [
       "Text(0.5,1,'K Value vs Accuracy')"
      ]
     },
     "execution_count": 66,
     "metadata": {},
     "output_type": "execute_result"
    },
    {
     "data": {
      "image/png": "[encoded data removed]",
      "text/plain": [
       "<matplotlib.figure.Figure at 0xc8e1128>"
      ]
     },
     "metadata": {},
     "output_type": "display_data"
    }
   ],
   "source": [
    "plt.plot(k,scores)\n",
    "plt.xlabel('K value')\n",
    "plt.ylabel('Accuracy Score')\n",
    "plt.title('K Value vs Accuracy')"
   ]
  },
  {
   "cell_type": "markdown",
   "metadata": {},
   "source": [
    "#### Note\n",
    "It is evident that from the plot that k value after 20 yields almost the same performance. Hence k =20 is optimum."
   ]
  },
  {
   "cell_type": "code",
   "execution_count": 67,
   "metadata": {},
   "outputs": [
    {
     "data": {
      "text/plain": [
       "Text(0.5,1,'K Value vs errors')"
      ]
     },
     "execution_count": 67,
     "metadata": {},
     "output_type": "execute_result"
    },
    {
     "data": {
      "image/png": "[encoded data removed]",
      "text/plain": [
       "<matplotlib.figure.Figure at 0xde00a90>"
      ]
     },
     "metadata": {},
     "output_type": "display_data"
    }
   ],
   "source": [
    "plt.plot(k,errors)\n",
    "plt.xlabel('K value')\n",
    "plt.ylabel('errors')\n",
    "plt.title('K Value vs errors')"
   ]
  },
  {
   "cell_type": "markdown",
   "metadata": {},
   "source": [
    "#### Note\n",
    "The errors gradually decreases with increase in K values and does not reduce further after K =20 .It becomes constant.\n",
    "Hence optimum K value = 20"
   ]
  },
  {
   "cell_type": "code",
   "execution_count": 68,
   "metadata": {},
   "outputs": [
    {
     "name": "stdout",
     "output_type": "stream",
     "text": [
      "accuracy of KNN Classifier : 0.8030833486886555\n"
     ]
    }
   ],
   "source": [
    "knn = KNeighborsClassifier(n_neighbors = 20, weights='uniform', algorithm='auto')\n",
    "knn.fit(X,Y)\n",
    "Ypred = knn.predict(Xtest)\n",
    "Ypred_proba = knn.predict_proba(Xtest)\n",
    "# generate evaluation metrics\n",
    "print(\"accuracy of KNN Classifier :\",metrics.accuracy_score(Ytest, Ypred))\n",
    "model_accuracy['Accuracy Score of KNN Classifier neigbors-20'] = metrics.accuracy_score(Ytest, Ypred)\n",
    "\n",
    "model_accuracy['AUC of KNN Classifier neighbors-20'] = metrics.roc_auc_score(Ytest,Ypred_proba[:,1])"
   ]
  },
  {
   "cell_type": "markdown",
   "metadata": {},
   "source": [
    "# Evaluation of K Nearest Neighbor for K = 20"
   ]
  },
  {
   "cell_type": "markdown",
   "metadata": {},
   "source": [
    "#### Confusion Matrix"
   ]
  },
  {
   "cell_type": "code",
   "execution_count": 69,
   "metadata": {},
   "outputs": [
    {
     "data": {
      "text/plain": [
       "array([[12277,   158],\n",
       "       [ 3048,   798]], dtype=int64)"
      ]
     },
     "execution_count": 69,
     "metadata": {},
     "output_type": "execute_result"
    }
   ],
   "source": [
    "metrics.confusion_matrix(Ytest,Ypred)"
   ]
  },
  {
   "cell_type": "markdown",
   "metadata": {},
   "source": [
    "#### ROC and AUC"
   ]
  },
  {
   "cell_type": "code",
   "execution_count": 70,
   "metadata": {},
   "outputs": [
    {
     "name": "stdout",
     "output_type": "stream",
     "text": [
      "ROC :  (array([0.00000000e+00, 3.21672698e-04, 4.02090873e-04, 5.62927222e-04,\n",
      "       6.43345396e-04, 1.20627262e-03, 1.84961801e-03, 3.05589063e-03,\n",
      "       4.58383595e-03, 7.31805388e-03, 1.27060716e-02, 2.13108162e-02,\n",
      "       3.66706876e-02, 6.86771210e-02, 1.22557298e-01, 2.11017290e-01,\n",
      "       3.56011259e-01, 5.30438279e-01, 7.26819461e-01, 8.85404101e-01,\n",
      "       9.74829111e-01, 1.00000000e+00]), array([0.        , 0.07670307, 0.09958398, 0.11336453, 0.12584503,\n",
      "       0.13624545, 0.14534581, 0.15236609, 0.16458658, 0.18434737,\n",
      "       0.2074883 , 0.22724909, 0.25611024, 0.29589184, 0.35179407,\n",
      "       0.44071763, 0.55694228, 0.68356734, 0.82293292, 0.93837754,\n",
      "       0.98959958, 1.        ]), array([2.  , 1.  , 0.95, 0.9 , 0.85, 0.8 , 0.75, 0.7 , 0.65, 0.6 , 0.55,\n",
      "       0.5 , 0.45, 0.4 , 0.35, 0.3 , 0.25, 0.2 , 0.15, 0.1 , 0.05, 0.  ]))\n",
      "AUC :  0.6484265032040767\n"
     ]
    }
   ],
   "source": [
    "print(\"ROC : \",(metrics.roc_curve(Ytest,Ypred_proba[:,1])))\n",
    "print(\"AUC : \",(metrics.roc_auc_score(Ytest,Ypred_proba[:,1])))"
   ]
  },
  {
   "cell_type": "markdown",
   "metadata": {},
   "source": [
    "# 10 Fold Cross Validation applied to K nearest neighbor model"
   ]
  },
  {
   "cell_type": "code",
   "execution_count": 71,
   "metadata": {},
   "outputs": [
    {
     "name": "stderr",
     "output_type": "stream",
     "text": [
      "C:\\ProgramData\\Anaconda3\\lib\\site-packages\\sklearn\\cross_validation.py:41: DeprecationWarning: This module was deprecated in version 0.18 in favor of the model_selection module into which all the refactored classes and functions are moved. Also note that the interface of the new CV iterators are different from that of this module. This module will be removed in 0.20.\n",
      "  \"This module will be removed in 0.20.\", DeprecationWarning)\n"
     ]
    },
    {
     "name": "stdout",
     "output_type": "stream",
     "text": [
      "Accuracy per fold: \n",
      "Cross Validation score:  [0.80143296 0.80184237 0.80450358 0.80266121 0.79918117 0.7993448\n",
      " 0.8042588  0.80032767 0.79725579 0.79909891]\n",
      "Average accuracy:  0.8009907260662927\n"
     ]
    }
   ],
   "source": [
    "from sklearn.cross_validation import cross_val_score\n",
    "\n",
    "scores = cross_val_score(estimator= KNeighborsClassifier(n_neighbors = 20, weights='uniform', algorithm='auto'),     # Model to test\n",
    "                X= Features,  \n",
    "                y = Labels,      # Target variable\n",
    "                scoring = \"accuracy\",               # Scoring metric    \n",
    "                cv=10)                              # Cross validation folds\n",
    "\n",
    "print(\"Accuracy per fold: \")\n",
    "print(\"Cross Validation score: \", scores)\n",
    "print(\"Average accuracy: \", scores.mean())\n",
    "model_accuracy['10 CV Score-KNN Classifier neighbors-20'] = scores.mean()"
   ]
  },
  {
   "cell_type": "markdown",
   "metadata": {},
   "source": [
    "#### Note :\n",
    " knn does not provide logic to do feature selection. "
   ]
  },
  {
   "cell_type": "markdown",
   "metadata": {},
   "source": [
    "# ENSEMBLE MODEL - BAGGING TECHNIQUE"
   ]
  },
  {
   "cell_type": "markdown",
   "metadata": {},
   "source": [
    "#### Bagging with Logistic Regression "
   ]
  },
  {
   "cell_type": "code",
   "execution_count": 73,
   "metadata": {},
   "outputs": [
    {
     "name": "stdout",
     "output_type": "stream",
     "text": [
      "Predictions :  [0 0 0 ... 0 1 0]\n",
      "Prediction Probabilities :  [[0.84478567 0.15521433]\n",
      " [0.74836632 0.25163368]\n",
      " [0.8609992  0.1390008 ]\n",
      " ...\n",
      " [0.84653839 0.15346161]\n",
      " [0.32066107 0.67933893]\n",
      " [0.76142281 0.23857719]]\n",
      "Accuracy Score of Bagging for single Logistic Regression Model : 0.7931330999324366\n"
     ]
    }
   ],
   "source": [
    "from sklearn.ensemble import BaggingClassifier\n",
    "bag_LR = BaggingClassifier(LogisticRegression(),\n",
    "                            n_estimators=10, max_samples=0.5,\n",
    "                            bootstrap=True, random_state=3) \n",
    "\n",
    "bag_LR.fit(X,Y)\n",
    "\n",
    "#### Predictions by the Bagging Ensemble model\n",
    "\n",
    "bag_preds = bag_LR.predict(Xtest)\n",
    "print(\"Predictions : \",bag_preds)\n",
    "\n",
    "bag_preds_proba = bag_LR.predict_proba(Xtest)\n",
    "print(\"Prediction Probabilities : \",bag_preds_proba)\n",
    "\n",
    "#### Score of the bagging ensemble model\n",
    "\n",
    "bag_LR.score(Xtest,Ytest)\n",
    "\n",
    "print(\"Accuracy Score of Bagging for single Logistic Regression Model :\",metrics.accuracy_score(Ytest,bag_preds))\n",
    "\n",
    "#### Confusion Matrix\n",
    "\n",
    "metrics.confusion_matrix(Ytest,bag_preds)\n",
    "\n",
    "#### ROC\n",
    "\n",
    "model_accuracy['Accuracy Score-Bagging-Logistic Regression'] = metrics.accuracy_score(Ytest,bag_preds)\n",
    "model_accuracy['AUC-Bagging-Logistic Regression'] = metrics.roc_auc_score(Ytest,bag_preds_proba[:,1])"
   ]
  },
  {
   "cell_type": "markdown",
   "metadata": {},
   "source": [
    "#### Bagging with KNN Model"
   ]
  },
  {
   "cell_type": "code",
   "execution_count": 75,
   "metadata": {},
   "outputs": [
    {
     "name": "stdout",
     "output_type": "stream",
     "text": [
      "Predictions :  [0 0 0 ... 0 0 0]\n",
      "Prediction Probabilities :  [[0.675 0.325]\n",
      " [0.73  0.27 ]\n",
      " [0.855 0.145]\n",
      " ...\n",
      " [0.815 0.185]\n",
      " [0.535 0.465]\n",
      " [0.865 0.135]]\n",
      "Accuracy Score of Bagging for single KNN Model : 0.7989067010625883\n"
     ]
    }
   ],
   "source": [
    "from sklearn.ensemble import BaggingClassifier\n",
    "bag_KNN = BaggingClassifier(KNeighborsClassifier(n_neighbors = 20, weights='uniform', algorithm='auto'),\n",
    "                            n_estimators=10, max_samples=0.5,\n",
    "                            bootstrap=True, random_state=3) \n",
    "\n",
    "bag_KNN.fit(X,Y)\n",
    "\n",
    "#### Predictions by the Bagging Ensemble model\n",
    "\n",
    "bag_preds = bag_KNN.predict(Xtest)\n",
    "print(\"Predictions : \",bag_preds)\n",
    "\n",
    "bag_preds_proba = bag_KNN.predict_proba(Xtest)\n",
    "print(\"Prediction Probabilities : \",bag_preds_proba)\n",
    "\n",
    "#### Score of the bagging ensemble model\n",
    "\n",
    "bag_KNN.score(Xtest,Ytest)\n",
    "\n",
    "print(\"Accuracy Score of Bagging for single KNN Model :\",metrics.accuracy_score(Ytest,bag_preds))\n",
    "\n",
    "#### Confusion Matrix\n",
    "metrics.confusion_matrix(Ytest,bag_preds)\n",
    "\n",
    "#### ROC\n",
    "\n",
    "\n",
    "model_accuracy['Accuracy Score-Bagging-KNN neighbors -20'] = metrics.accuracy_score(Ytest,bag_preds)\n",
    "model_accuracy['AUC-Bagging-KNN neighbors -20'] = metrics.roc_auc_score(Ytest,bag_preds_proba[:,1])"
   ]
  },
  {
   "cell_type": "markdown",
   "metadata": {},
   "source": [
    "#### RANDOM FOREST CLASSIFIER model"
   ]
  },
  {
   "cell_type": "code",
   "execution_count": 76,
   "metadata": {},
   "outputs": [
    {
     "name": "stdout",
     "output_type": "stream",
     "text": [
      "accuracy of Random Forest Classifier : 0.8517290092746146\n"
     ]
    }
   ],
   "source": [
    "from sklearn.ensemble import  RandomForestClassifier\n",
    "RF = RandomForestClassifier()\n",
    "RF.fit(X,Y)\n",
    "Ypred = RF.predict(Xtest)\n",
    "Ypred_proba = RF.predict_proba(Xtest)\n",
    "print(\"accuracy of Random Forest Classifier :\",metrics.accuracy_score(Ytest, Ypred))\n",
    "model_accuracy['Accuracy score of Random Forest Classifier'] = metrics.accuracy_score(Ytest, Ypred)"
   ]
  },
  {
   "cell_type": "markdown",
   "metadata": {},
   "source": [
    "#### Evaluate the Random Forest Model"
   ]
  },
  {
   "cell_type": "markdown",
   "metadata": {},
   "source": [
    "#### Confusion Matrix"
   ]
  },
  {
   "cell_type": "code",
   "execution_count": 77,
   "metadata": {},
   "outputs": [
    {
     "data": {
      "text/plain": [
       "array([[11668,   767],\n",
       "       [ 1647,  2199]], dtype=int64)"
      ]
     },
     "execution_count": 77,
     "metadata": {},
     "output_type": "execute_result"
    }
   ],
   "source": [
    "metrics.confusion_matrix(Ytest,Ypred)"
   ]
  },
  {
   "cell_type": "markdown",
   "metadata": {},
   "source": [
    "#### AUC"
   ]
  },
  {
   "cell_type": "code",
   "execution_count": 78,
   "metadata": {},
   "outputs": [
    {
     "name": "stdout",
     "output_type": "stream",
     "text": [
      "AUC for Random Forest Classifier :  0.8817353096214722\n"
     ]
    }
   ],
   "source": [
    "print(\"AUC for Random Forest Classifier : \",metrics.roc_auc_score(Ytest,Ypred_proba[:,1]))\n",
    "model_accuracy['AUC for Random Forest Classifier'] = metrics.roc_auc_score(Ytest,Ypred_proba[:,1])"
   ]
  },
  {
   "cell_type": "markdown",
   "metadata": {},
   "source": [
    "#### Feature Selection using feature_importances_ parameter of Random Forest Model"
   ]
  },
  {
   "cell_type": "code",
   "execution_count": 79,
   "metadata": {},
   "outputs": [
    {
     "name": "stdout",
     "output_type": "stream",
     "text": [
      "Features sorted by their score:\n",
      "[(0.1645, 'fnlwgt'), (0.1507, 'age'), (0.1216, 'capital_gain'), (0.0964, 'relationship'), (0.0873, 'hours_per_week'), (0.0779, 'education_num'), (0.0708, 'marital_status'), (0.0699, 'occupation'), (0.041, 'workclass'), (0.0366, 'capital_loss'), (0.0361, 'education'), (0.0175, 'native_country'), (0.0158, 'sex'), (0.0139, 'race')]\n"
     ]
    }
   ],
   "source": [
    "RF.fit(Xtest, Ytest)\n",
    "print(\"Features sorted by their score:\")\n",
    "print(sorted(zip(map(lambda x: round(x, 4), RF.feature_importances_), Features.columns),reverse=True))"
   ]
  },
  {
   "cell_type": "markdown",
   "metadata": {},
   "source": [
    "#### Feature Selection using RFECV - Recursive Feature Elimination Using Cross Validation"
   ]
  },
  {
   "cell_type": "code",
   "execution_count": 80,
   "metadata": {},
   "outputs": [
    {
     "data": {
      "text/html": [
       "<div>\n",
       "<style scoped>\n",
       "    .dataframe tbody tr th:only-of-type {\n",
       "        vertical-align: middle;\n",
       "    }\n",
       "\n",
       "    .dataframe tbody tr th {\n",
       "        vertical-align: top;\n",
       "    }\n",
       "\n",
       "    .dataframe thead th {\n",
       "        text-align: right;\n",
       "    }\n",
       "</style>\n",
       "<table border=\"1\" class=\"dataframe\">\n",
       "  <thead>\n",
       "    <tr style=\"text-align: right;\">\n",
       "      <th></th>\n",
       "      <th>Feature</th>\n",
       "      <th>Rank</th>\n",
       "    </tr>\n",
       "  </thead>\n",
       "  <tbody>\n",
       "    <tr>\n",
       "      <th>0</th>\n",
       "      <td>age</td>\n",
       "      <td>1</td>\n",
       "    </tr>\n",
       "    <tr>\n",
       "      <th>1</th>\n",
       "      <td>workclass</td>\n",
       "      <td>1</td>\n",
       "    </tr>\n",
       "    <tr>\n",
       "      <th>2</th>\n",
       "      <td>fnlwgt</td>\n",
       "      <td>1</td>\n",
       "    </tr>\n",
       "    <tr>\n",
       "      <th>3</th>\n",
       "      <td>education</td>\n",
       "      <td>1</td>\n",
       "    </tr>\n",
       "    <tr>\n",
       "      <th>4</th>\n",
       "      <td>education_num</td>\n",
       "      <td>1</td>\n",
       "    </tr>\n",
       "    <tr>\n",
       "      <th>5</th>\n",
       "      <td>marital_status</td>\n",
       "      <td>1</td>\n",
       "    </tr>\n",
       "    <tr>\n",
       "      <th>6</th>\n",
       "      <td>occupation</td>\n",
       "      <td>1</td>\n",
       "    </tr>\n",
       "    <tr>\n",
       "      <th>7</th>\n",
       "      <td>relationship</td>\n",
       "      <td>1</td>\n",
       "    </tr>\n",
       "    <tr>\n",
       "      <th>8</th>\n",
       "      <td>race</td>\n",
       "      <td>1</td>\n",
       "    </tr>\n",
       "    <tr>\n",
       "      <th>9</th>\n",
       "      <td>sex</td>\n",
       "      <td>1</td>\n",
       "    </tr>\n",
       "    <tr>\n",
       "      <th>10</th>\n",
       "      <td>capital_gain</td>\n",
       "      <td>1</td>\n",
       "    </tr>\n",
       "    <tr>\n",
       "      <th>11</th>\n",
       "      <td>capital_loss</td>\n",
       "      <td>1</td>\n",
       "    </tr>\n",
       "    <tr>\n",
       "      <th>12</th>\n",
       "      <td>hours_per_week</td>\n",
       "      <td>1</td>\n",
       "    </tr>\n",
       "    <tr>\n",
       "      <th>13</th>\n",
       "      <td>native_country</td>\n",
       "      <td>1</td>\n",
       "    </tr>\n",
       "  </tbody>\n",
       "</table>\n",
       "</div>"
      ],
      "text/plain": [
       "           Feature  Rank\n",
       "0              age     1\n",
       "1        workclass     1\n",
       "2           fnlwgt     1\n",
       "3        education     1\n",
       "4    education_num     1\n",
       "5   marital_status     1\n",
       "6       occupation     1\n",
       "7     relationship     1\n",
       "8             race     1\n",
       "9              sex     1\n",
       "10    capital_gain     1\n",
       "11    capital_loss     1\n",
       "12  hours_per_week     1\n",
       "13  native_country     1"
      ]
     },
     "execution_count": 80,
     "metadata": {},
     "output_type": "execute_result"
    }
   ],
   "source": [
    "selector =  RFECV(estimator=RandomForestClassifier(), step=1,cv=10)\n",
    "selector.fit(Features,Labels)\n",
    "ranks = selector.ranking_.tolist()\n",
    "df_rank_cv = pd.DataFrame({'Feature':Features.columns,'Rank':ranks})\n",
    "df_rank_cv"
   ]
  },
  {
   "cell_type": "code",
   "execution_count": 81,
   "metadata": {},
   "outputs": [
    {
     "name": "stdout",
     "output_type": "stream",
     "text": [
      "The important Features in the sample data after REFCV are as follows :-\n",
      " ['age' 'workclass' 'fnlwgt' 'education' 'education_num' 'marital_status'\n",
      " 'occupation' 'relationship' 'race' 'sex' 'capital_gain' 'capital_loss'\n",
      " 'hours_per_week' 'native_country']\n"
     ]
    }
   ],
   "source": [
    "impcvRF= df_rank_cv.Feature[df_rank_cv.Rank == 1]\n",
    "print(\"The important Features in the sample data after REFCV are as follows :-\\n\",impcvRF.values)"
   ]
  },
  {
   "cell_type": "markdown",
   "metadata": {},
   "source": [
    "#### 10 Fold Cross Validation for Random Forest Classifier"
   ]
  },
  {
   "cell_type": "code",
   "execution_count": 82,
   "metadata": {},
   "outputs": [
    {
     "name": "stdout",
     "output_type": "stream",
     "text": [
      "Accuracy per fold: \n",
      "Cross Validation score:  [0.84585466 0.84953941 0.84380757 0.85363357 0.85158649 0.85626536\n",
      " 0.84930385 0.85029695 0.84558673 0.85377841]\n",
      "Average accuracy:  0.8499652997623649\n"
     ]
    }
   ],
   "source": [
    "from sklearn.cross_validation import cross_val_score\n",
    "\n",
    "scores = cross_val_score(estimator= RandomForestClassifier(),     # Model to test\n",
    "                X= Features,  \n",
    "                y = Labels,      # Target variable\n",
    "                scoring = \"accuracy\",               # Scoring metric    \n",
    "                cv=10)                              # Cross validation folds\n",
    "\n",
    "print(\"Accuracy per fold: \")\n",
    "print(\"Cross Validation score: \", scores)\n",
    "print(\"Average accuracy: \", scores.mean())\n",
    "model_accuracy['10 CV Score-Random Forest Classifier'] = scores.mean()"
   ]
  },
  {
   "cell_type": "markdown",
   "metadata": {},
   "source": [
    "# Using Boosting Method of Ensemble model to predict the annual income"
   ]
  },
  {
   "cell_type": "code",
   "execution_count": 83,
   "metadata": {},
   "outputs": [],
   "source": [
    "from xgboost.sklearn import XGBClassifier\n",
    "#set the parameters for the xgbosst model\n",
    "params = {\n",
    "    'objective': 'binary:logistic',\n",
    "    'max_depth': 2,\n",
    "    'learning_rate': 1.0,\n",
    "    'silent': 1.0,\n",
    "    'n_estimators': 5\n",
    "}\n",
    "params['eval_metric'] = ['logloss', 'auc']"
   ]
  },
  {
   "cell_type": "markdown",
   "metadata": {},
   "source": [
    "# Train the XGBClassifier model "
   ]
  },
  {
   "cell_type": "code",
   "execution_count": 84,
   "metadata": {},
   "outputs": [],
   "source": [
    "bst = XGBClassifier(**params).fit(X,Y)"
   ]
  },
  {
   "cell_type": "markdown",
   "metadata": {},
   "source": [
    "# Predict the annual income"
   ]
  },
  {
   "cell_type": "code",
   "execution_count": 85,
   "metadata": {},
   "outputs": [
    {
     "name": "stderr",
     "output_type": "stream",
     "text": [
      "C:\\ProgramData\\Anaconda3\\lib\\site-packages\\sklearn\\preprocessing\\label.py:151: DeprecationWarning: The truth value of an empty array is ambiguous. Returning False, but in future this will result in an error. Use `array.size > 0` to check that an array is not empty.\n",
      "  if diff:\n"
     ]
    },
    {
     "data": {
      "text/plain": [
       "array([0, 0, 0, ..., 1, 0, 1], dtype=int64)"
      ]
     },
     "execution_count": 85,
     "metadata": {},
     "output_type": "execute_result"
    }
   ],
   "source": [
    "preds = bst.predict(Xtest)\n",
    "preds"
   ]
  },
  {
   "cell_type": "code",
   "execution_count": 86,
   "metadata": {},
   "outputs": [
    {
     "data": {
      "text/plain": [
       "array([[0.9901402 , 0.00985978],\n",
       "       [0.6302984 , 0.36970162],\n",
       "       [0.84882355, 0.15117645],\n",
       "       ...,\n",
       "       [0.16177893, 0.8382211 ],\n",
       "       [0.66023326, 0.3397667 ],\n",
       "       [0.16177893, 0.8382211 ]], dtype=float32)"
      ]
     },
     "execution_count": 86,
     "metadata": {},
     "output_type": "execute_result"
    }
   ],
   "source": [
    "preds_proba = bst.predict_proba(Xtest)\n",
    "preds_proba"
   ]
  },
  {
   "cell_type": "markdown",
   "metadata": {},
   "source": [
    "# Measure the accuracy of the model"
   ]
  },
  {
   "cell_type": "code",
   "execution_count": 87,
   "metadata": {},
   "outputs": [
    {
     "name": "stdout",
     "output_type": "stream",
     "text": [
      "Predicted correctly: 13838/16281\n",
      "Accuracy Score :0.8499\n",
      "Error: 0.1501\n"
     ]
    }
   ],
   "source": [
    "correct = 0\n",
    "from sklearn.metrics import accuracy_score\n",
    "for i in range(len(preds)):\n",
    "    if (y_test[i] == preds[i]):\n",
    "        correct += 1\n",
    "        \n",
    "acc = accuracy_score(Ytest, preds)\n",
    "\n",
    "print('Predicted correctly: {0}/{1}'.format(correct, len(preds)))\n",
    "print('Accuracy Score :{:.4f}'.format(acc))\n",
    "print('Error: {0:.4f}'.format(1-acc))\n",
    "model_accuracy['Accuracy Score of XGBOOST Model'] = acc"
   ]
  },
  {
   "cell_type": "code",
   "execution_count": 88,
   "metadata": {},
   "outputs": [
    {
     "name": "stdout",
     "output_type": "stream",
     "text": [
      "             precision    recall  f1-score   support\n",
      "\n",
      "          0       0.88      0.93      0.90     12435\n",
      "          1       0.72      0.60      0.65      3846\n",
      "\n",
      "avg / total       0.84      0.85      0.84     16281\n",
      "\n"
     ]
    }
   ],
   "source": [
    "from sklearn.metrics import classification_report\n",
    "print(classification_report(Ytest,preds))"
   ]
  },
  {
   "cell_type": "markdown",
   "metadata": {},
   "source": [
    "#### Confusion Matrix "
   ]
  },
  {
   "cell_type": "code",
   "execution_count": 89,
   "metadata": {},
   "outputs": [
    {
     "data": {
      "text/plain": [
       "array([[11544,   891],\n",
       "       [ 1552,  2294]], dtype=int64)"
      ]
     },
     "execution_count": 89,
     "metadata": {},
     "output_type": "execute_result"
    }
   ],
   "source": [
    "metrics.confusion_matrix(Ytest, preds)"
   ]
  },
  {
   "cell_type": "markdown",
   "metadata": {},
   "source": [
    "#### AUC"
   ]
  },
  {
   "cell_type": "code",
   "execution_count": 90,
   "metadata": {},
   "outputs": [
    {
     "name": "stdout",
     "output_type": "stream",
     "text": [
      "AUC for XGBOOST model :  0.8946264308151739\n"
     ]
    }
   ],
   "source": [
    "print('AUC for XGBOOST model : ',metrics.roc_auc_score(Ytest,preds_proba[:,1]))\n",
    "model_accuracy['AUC for XGBOOST model'] = metrics.roc_auc_score(Ytest,preds_proba[:,1])"
   ]
  },
  {
   "cell_type": "code",
   "execution_count": 91,
   "metadata": {},
   "outputs": [],
   "source": [
    "features = []\n",
    "scores = []\n",
    "for k,v in model_accuracy.items():\n",
    "    features.append(k)\n",
    "    scores.append(v)\n"
   ]
  },
  {
   "cell_type": "code",
   "execution_count": 92,
   "metadata": {},
   "outputs": [
    {
     "data": {
      "text/html": [
       "<div>\n",
       "<style scoped>\n",
       "    .dataframe tbody tr th:only-of-type {\n",
       "        vertical-align: middle;\n",
       "    }\n",
       "\n",
       "    .dataframe tbody tr th {\n",
       "        vertical-align: top;\n",
       "    }\n",
       "\n",
       "    .dataframe thead th {\n",
       "        text-align: right;\n",
       "    }\n",
       "</style>\n",
       "<table border=\"1\" class=\"dataframe\">\n",
       "  <thead>\n",
       "    <tr style=\"text-align: right;\">\n",
       "      <th></th>\n",
       "      <th>Features</th>\n",
       "      <th>Scores</th>\n",
       "    </tr>\n",
       "  </thead>\n",
       "  <tbody>\n",
       "    <tr>\n",
       "      <th>0</th>\n",
       "      <td>Logistic Regression</td>\n",
       "      <td>0.795037</td>\n",
       "    </tr>\n",
       "    <tr>\n",
       "      <th>1</th>\n",
       "      <td>AUC_Logistic_Regression</td>\n",
       "      <td>0.701520</td>\n",
       "    </tr>\n",
       "    <tr>\n",
       "      <th>2</th>\n",
       "      <td>10 CV Score-Logistic Regression</td>\n",
       "      <td>0.793866</td>\n",
       "    </tr>\n",
       "    <tr>\n",
       "      <th>3</th>\n",
       "      <td>Accuracy Score of Decision Tree Classifier Model</td>\n",
       "      <td>0.855107</td>\n",
       "    </tr>\n",
       "    <tr>\n",
       "      <th>4</th>\n",
       "      <td>AUC of Decision Tree Model Classifier - depth 10</td>\n",
       "      <td>0.892387</td>\n",
       "    </tr>\n",
       "    <tr>\n",
       "      <th>5</th>\n",
       "      <td>10 CV Score-Decision Tree Classifier, max dept...</td>\n",
       "      <td>0.854510</td>\n",
       "    </tr>\n",
       "    <tr>\n",
       "      <th>6</th>\n",
       "      <td>Accuracy Score of KNN Classifier neigbors-20</td>\n",
       "      <td>0.803083</td>\n",
       "    </tr>\n",
       "    <tr>\n",
       "      <th>7</th>\n",
       "      <td>AUC of KNN Classifier neighbors-20</td>\n",
       "      <td>0.648427</td>\n",
       "    </tr>\n",
       "    <tr>\n",
       "      <th>8</th>\n",
       "      <td>10 CV Score-KNN Classifier neighbors-20</td>\n",
       "      <td>0.800991</td>\n",
       "    </tr>\n",
       "    <tr>\n",
       "      <th>9</th>\n",
       "      <td>Accuracy Score-Bagging-Logistic Regression</td>\n",
       "      <td>0.793133</td>\n",
       "    </tr>\n",
       "    <tr>\n",
       "      <th>10</th>\n",
       "      <td>AUC-Bagging-Logistic Regression</td>\n",
       "      <td>0.718727</td>\n",
       "    </tr>\n",
       "    <tr>\n",
       "      <th>11</th>\n",
       "      <td>Accuracy Score-Bagging-KNN neighbors -20</td>\n",
       "      <td>0.798907</td>\n",
       "    </tr>\n",
       "    <tr>\n",
       "      <th>12</th>\n",
       "      <td>AUC-Bagging-KNN neighbors -20</td>\n",
       "      <td>0.635668</td>\n",
       "    </tr>\n",
       "    <tr>\n",
       "      <th>13</th>\n",
       "      <td>Accuracy score of Random Forest Classifier</td>\n",
       "      <td>0.851729</td>\n",
       "    </tr>\n",
       "    <tr>\n",
       "      <th>14</th>\n",
       "      <td>AUC for Random Forest Classifier</td>\n",
       "      <td>0.881735</td>\n",
       "    </tr>\n",
       "    <tr>\n",
       "      <th>15</th>\n",
       "      <td>10 CV Score-Random Forest Classifier</td>\n",
       "      <td>0.849965</td>\n",
       "    </tr>\n",
       "    <tr>\n",
       "      <th>16</th>\n",
       "      <td>Accuracy Score of XGBOOST Model</td>\n",
       "      <td>0.849948</td>\n",
       "    </tr>\n",
       "    <tr>\n",
       "      <th>17</th>\n",
       "      <td>AUC for XGBOOST model</td>\n",
       "      <td>0.894626</td>\n",
       "    </tr>\n",
       "  </tbody>\n",
       "</table>\n",
       "</div>"
      ],
      "text/plain": [
       "                                             Features    Scores\n",
       "0                                 Logistic Regression  0.795037\n",
       "1                             AUC_Logistic_Regression  0.701520\n",
       "2                     10 CV Score-Logistic Regression  0.793866\n",
       "3    Accuracy Score of Decision Tree Classifier Model  0.855107\n",
       "4    AUC of Decision Tree Model Classifier - depth 10  0.892387\n",
       "5   10 CV Score-Decision Tree Classifier, max dept...  0.854510\n",
       "6        Accuracy Score of KNN Classifier neigbors-20  0.803083\n",
       "7                  AUC of KNN Classifier neighbors-20  0.648427\n",
       "8             10 CV Score-KNN Classifier neighbors-20  0.800991\n",
       "9          Accuracy Score-Bagging-Logistic Regression  0.793133\n",
       "10                    AUC-Bagging-Logistic Regression  0.718727\n",
       "11           Accuracy Score-Bagging-KNN neighbors -20  0.798907\n",
       "12                      AUC-Bagging-KNN neighbors -20  0.635668\n",
       "13         Accuracy score of Random Forest Classifier  0.851729\n",
       "14                   AUC for Random Forest Classifier  0.881735\n",
       "15               10 CV Score-Random Forest Classifier  0.849965\n",
       "16                    Accuracy Score of XGBOOST Model  0.849948\n",
       "17                              AUC for XGBOOST model  0.894626"
      ]
     },
     "execution_count": 92,
     "metadata": {},
     "output_type": "execute_result"
    }
   ],
   "source": [
    "df_scores = pd.DataFrame({'Features':features,'Scores':scores})\n",
    "feat_cols = ['Features','Scores']\n",
    "df_scores = df_scores[feat_cols]\n",
    "df_scores"
   ]
  },
  {
   "cell_type": "markdown",
   "metadata": {},
   "source": [
    "# Answer to Problem 2\n",
    "\n",
    "The important features are\n",
    "\\n\n",
    "\\n\n",
    "\n",
    "\n",
    " ['age' 'workclass' 'fnlwgt' 'education' 'education_num' 'marital_status'\n",
    " 'occupation' 'relationship' 'race' 'sex' 'capital_gain' 'capital_loss'\n",
    " 'hours_per_week' 'native_country']"
   ]
  },
  {
   "cell_type": "markdown",
   "metadata": {},
   "source": [
    "# Answer to Problem 3\n",
    "\n",
    "\n",
    "From the above Model Estimation Score dataframe if we take into consideration the AUC value then it is evident that the Decision Tree Classifier Model and XGBOOST ensemble model have the highest accuracy for the model performance.\n"
   ]
  },
  {
   "cell_type": "code",
   "execution_count": null,
   "metadata": {},
   "outputs": [],
   "source": []
  }
 ],
 "metadata": {
  "kernelspec": {
   "display_name": "Python 3",
   "language": "python",
   "name": "python3"
  },
  "language_info": {
   "codemirror_mode": {
    "name": "ipython",
    "version": 3
   },
   "file_extension": ".py",
   "mimetype": "text/x-python",
   "name": "python",
   "nbconvert_exporter": "python",
   "pygments_lexer": "ipython3",
   "version": "3.6.4"
  }
 },
 "nbformat": 4,
 "nbformat_minor": 2
}
